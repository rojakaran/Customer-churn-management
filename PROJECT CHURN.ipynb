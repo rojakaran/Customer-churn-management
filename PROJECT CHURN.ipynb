{
 "cells": [
  {
   "cell_type": "markdown",
   "metadata": {},
   "source": [
    "# Predicting customer churn at a fictitious wireless telecom company"
   ]
  },
  {
   "cell_type": "raw",
   "metadata": {},
   "source": [
    "Problem statement - develop a model for predicting customer churn at a fictitious wireless telecom company and use insights                         from the model to develop an incentive plan for enticing would-be churners to remain with company.\n",
    "\n",
    "Data - The data are a scaled down version of the full database generously donated by an anonymous wireless telephone company.\n",
    "\n",
    "Objective - To execute the multistage process for proactive churn management."
   ]
  },
  {
   "cell_type": "markdown",
   "metadata": {},
   "source": [
    "# Importing the data"
   ]
  },
  {
   "cell_type": "code",
   "execution_count": 1,
   "metadata": {},
   "outputs": [],
   "source": [
    "import pandas as pd\n",
    "import numpy as np\n",
    "import matplotlib.pyplot as plt\n",
    "%matplotlib inline \n",
    "import seaborn as sns \n",
    "pd.set_option('display.max_columns', None)"
   ]
  },
  {
   "cell_type": "code",
   "execution_count": 2,
   "metadata": {},
   "outputs": [],
   "source": [
    "df1=pd.read_csv(\"Churn.csv\", na_values=[\"\",\" \",\"NA\",\"N/A\",])"
   ]
  },
  {
   "cell_type": "markdown",
   "metadata": {},
   "source": [
    "# Understanding the data"
   ]
  },
  {
   "cell_type": "code",
   "execution_count": 3,
   "metadata": {},
   "outputs": [
    {
     "data": {
      "text/html": [
       "<div>\n",
       "<style scoped>\n",
       "    .dataframe tbody tr th:only-of-type {\n",
       "        vertical-align: middle;\n",
       "    }\n",
       "\n",
       "    .dataframe tbody tr th {\n",
       "        vertical-align: top;\n",
       "    }\n",
       "\n",
       "    .dataframe thead th {\n",
       "        text-align: right;\n",
       "    }\n",
       "</style>\n",
       "<table border=\"1\" class=\"dataframe\">\n",
       "  <thead>\n",
       "    <tr style=\"text-align: right;\">\n",
       "      <th></th>\n",
       "      <th>customerID</th>\n",
       "      <th>gender</th>\n",
       "      <th>SeniorCitizen</th>\n",
       "      <th>Partner</th>\n",
       "      <th>Dependents</th>\n",
       "      <th>tenure</th>\n",
       "      <th>PhoneService</th>\n",
       "      <th>MultipleLines</th>\n",
       "      <th>InternetService</th>\n",
       "      <th>OnlineSecurity</th>\n",
       "      <th>OnlineBackup</th>\n",
       "      <th>DeviceProtection</th>\n",
       "      <th>TechSupport</th>\n",
       "      <th>StreamingTV</th>\n",
       "      <th>StreamingMovies</th>\n",
       "      <th>Contract</th>\n",
       "      <th>PaperlessBilling</th>\n",
       "      <th>PaymentMethod</th>\n",
       "      <th>MonthlyCharges</th>\n",
       "      <th>TotalCharges</th>\n",
       "      <th>Churn</th>\n",
       "    </tr>\n",
       "  </thead>\n",
       "  <tbody>\n",
       "    <tr>\n",
       "      <th>0</th>\n",
       "      <td>7590-VHVEG</td>\n",
       "      <td>Female</td>\n",
       "      <td>0</td>\n",
       "      <td>Yes</td>\n",
       "      <td>No</td>\n",
       "      <td>1</td>\n",
       "      <td>No</td>\n",
       "      <td>No phone service</td>\n",
       "      <td>DSL</td>\n",
       "      <td>No</td>\n",
       "      <td>Yes</td>\n",
       "      <td>No</td>\n",
       "      <td>No</td>\n",
       "      <td>No</td>\n",
       "      <td>No</td>\n",
       "      <td>Month-to-month</td>\n",
       "      <td>Yes</td>\n",
       "      <td>Electronic check</td>\n",
       "      <td>29.85</td>\n",
       "      <td>29.85</td>\n",
       "      <td>No</td>\n",
       "    </tr>\n",
       "    <tr>\n",
       "      <th>1</th>\n",
       "      <td>5575-GNVDE</td>\n",
       "      <td>Male</td>\n",
       "      <td>0</td>\n",
       "      <td>No</td>\n",
       "      <td>No</td>\n",
       "      <td>34</td>\n",
       "      <td>Yes</td>\n",
       "      <td>No</td>\n",
       "      <td>DSL</td>\n",
       "      <td>Yes</td>\n",
       "      <td>No</td>\n",
       "      <td>Yes</td>\n",
       "      <td>No</td>\n",
       "      <td>No</td>\n",
       "      <td>No</td>\n",
       "      <td>One year</td>\n",
       "      <td>No</td>\n",
       "      <td>Mailed check</td>\n",
       "      <td>56.95</td>\n",
       "      <td>1889.50</td>\n",
       "      <td>No</td>\n",
       "    </tr>\n",
       "    <tr>\n",
       "      <th>2</th>\n",
       "      <td>3668-QPYBK</td>\n",
       "      <td>Male</td>\n",
       "      <td>0</td>\n",
       "      <td>No</td>\n",
       "      <td>No</td>\n",
       "      <td>2</td>\n",
       "      <td>Yes</td>\n",
       "      <td>No</td>\n",
       "      <td>DSL</td>\n",
       "      <td>Yes</td>\n",
       "      <td>Yes</td>\n",
       "      <td>No</td>\n",
       "      <td>No</td>\n",
       "      <td>No</td>\n",
       "      <td>No</td>\n",
       "      <td>Month-to-month</td>\n",
       "      <td>Yes</td>\n",
       "      <td>Mailed check</td>\n",
       "      <td>53.85</td>\n",
       "      <td>108.15</td>\n",
       "      <td>Yes</td>\n",
       "    </tr>\n",
       "    <tr>\n",
       "      <th>3</th>\n",
       "      <td>7795-CFOCW</td>\n",
       "      <td>Male</td>\n",
       "      <td>0</td>\n",
       "      <td>No</td>\n",
       "      <td>No</td>\n",
       "      <td>45</td>\n",
       "      <td>No</td>\n",
       "      <td>No phone service</td>\n",
       "      <td>DSL</td>\n",
       "      <td>Yes</td>\n",
       "      <td>No</td>\n",
       "      <td>Yes</td>\n",
       "      <td>Yes</td>\n",
       "      <td>No</td>\n",
       "      <td>No</td>\n",
       "      <td>One year</td>\n",
       "      <td>No</td>\n",
       "      <td>Bank transfer (automatic)</td>\n",
       "      <td>42.30</td>\n",
       "      <td>1840.75</td>\n",
       "      <td>No</td>\n",
       "    </tr>\n",
       "    <tr>\n",
       "      <th>4</th>\n",
       "      <td>9237-HQITU</td>\n",
       "      <td>Female</td>\n",
       "      <td>0</td>\n",
       "      <td>No</td>\n",
       "      <td>No</td>\n",
       "      <td>2</td>\n",
       "      <td>Yes</td>\n",
       "      <td>No</td>\n",
       "      <td>Fiber optic</td>\n",
       "      <td>No</td>\n",
       "      <td>No</td>\n",
       "      <td>No</td>\n",
       "      <td>No</td>\n",
       "      <td>No</td>\n",
       "      <td>No</td>\n",
       "      <td>Month-to-month</td>\n",
       "      <td>Yes</td>\n",
       "      <td>Electronic check</td>\n",
       "      <td>70.70</td>\n",
       "      <td>151.65</td>\n",
       "      <td>Yes</td>\n",
       "    </tr>\n",
       "  </tbody>\n",
       "</table>\n",
       "</div>"
      ],
      "text/plain": [
       "   customerID  gender  SeniorCitizen Partner Dependents  tenure PhoneService  \\\n",
       "0  7590-VHVEG  Female              0     Yes         No       1           No   \n",
       "1  5575-GNVDE    Male              0      No         No      34          Yes   \n",
       "2  3668-QPYBK    Male              0      No         No       2          Yes   \n",
       "3  7795-CFOCW    Male              0      No         No      45           No   \n",
       "4  9237-HQITU  Female              0      No         No       2          Yes   \n",
       "\n",
       "      MultipleLines InternetService OnlineSecurity OnlineBackup  \\\n",
       "0  No phone service             DSL             No          Yes   \n",
       "1                No             DSL            Yes           No   \n",
       "2                No             DSL            Yes          Yes   \n",
       "3  No phone service             DSL            Yes           No   \n",
       "4                No     Fiber optic             No           No   \n",
       "\n",
       "  DeviceProtection TechSupport StreamingTV StreamingMovies        Contract  \\\n",
       "0               No          No          No              No  Month-to-month   \n",
       "1              Yes          No          No              No        One year   \n",
       "2               No          No          No              No  Month-to-month   \n",
       "3              Yes         Yes          No              No        One year   \n",
       "4               No          No          No              No  Month-to-month   \n",
       "\n",
       "  PaperlessBilling              PaymentMethod  MonthlyCharges  TotalCharges  \\\n",
       "0              Yes           Electronic check           29.85         29.85   \n",
       "1               No               Mailed check           56.95       1889.50   \n",
       "2              Yes               Mailed check           53.85        108.15   \n",
       "3               No  Bank transfer (automatic)           42.30       1840.75   \n",
       "4              Yes           Electronic check           70.70        151.65   \n",
       "\n",
       "  Churn  \n",
       "0    No  \n",
       "1    No  \n",
       "2   Yes  \n",
       "3    No  \n",
       "4   Yes  "
      ]
     },
     "execution_count": 3,
     "metadata": {},
     "output_type": "execute_result"
    }
   ],
   "source": [
    "pd.set_option('display.max_columns', None)\n",
    "df1.head()"
   ]
  },
  {
   "cell_type": "code",
   "execution_count": 4,
   "metadata": {},
   "outputs": [
    {
     "data": {
      "text/plain": [
       "(7043, 21)"
      ]
     },
     "execution_count": 4,
     "metadata": {},
     "output_type": "execute_result"
    }
   ],
   "source": [
    "df1.shape"
   ]
  },
  {
   "cell_type": "code",
   "execution_count": 5,
   "metadata": {},
   "outputs": [
    {
     "data": {
      "text/html": [
       "<div>\n",
       "<style scoped>\n",
       "    .dataframe tbody tr th:only-of-type {\n",
       "        vertical-align: middle;\n",
       "    }\n",
       "\n",
       "    .dataframe tbody tr th {\n",
       "        vertical-align: top;\n",
       "    }\n",
       "\n",
       "    .dataframe thead th {\n",
       "        text-align: right;\n",
       "    }\n",
       "</style>\n",
       "<table border=\"1\" class=\"dataframe\">\n",
       "  <thead>\n",
       "    <tr style=\"text-align: right;\">\n",
       "      <th></th>\n",
       "      <th>customerID</th>\n",
       "      <th>gender</th>\n",
       "      <th>SeniorCitizen</th>\n",
       "      <th>Partner</th>\n",
       "      <th>Dependents</th>\n",
       "      <th>tenure</th>\n",
       "      <th>PhoneService</th>\n",
       "      <th>MultipleLines</th>\n",
       "      <th>InternetService</th>\n",
       "      <th>OnlineSecurity</th>\n",
       "      <th>OnlineBackup</th>\n",
       "      <th>DeviceProtection</th>\n",
       "      <th>TechSupport</th>\n",
       "      <th>StreamingTV</th>\n",
       "      <th>StreamingMovies</th>\n",
       "      <th>Contract</th>\n",
       "      <th>PaperlessBilling</th>\n",
       "      <th>PaymentMethod</th>\n",
       "      <th>MonthlyCharges</th>\n",
       "      <th>TotalCharges</th>\n",
       "      <th>Churn</th>\n",
       "    </tr>\n",
       "  </thead>\n",
       "  <tbody>\n",
       "    <tr>\n",
       "      <th>0</th>\n",
       "      <td>7590-VHVEG</td>\n",
       "      <td>Female</td>\n",
       "      <td>0</td>\n",
       "      <td>Yes</td>\n",
       "      <td>No</td>\n",
       "      <td>1</td>\n",
       "      <td>No</td>\n",
       "      <td>No phone service</td>\n",
       "      <td>DSL</td>\n",
       "      <td>No</td>\n",
       "      <td>Yes</td>\n",
       "      <td>No</td>\n",
       "      <td>No</td>\n",
       "      <td>No</td>\n",
       "      <td>No</td>\n",
       "      <td>Month-to-month</td>\n",
       "      <td>Yes</td>\n",
       "      <td>Electronic check</td>\n",
       "      <td>29.85</td>\n",
       "      <td>29.85</td>\n",
       "      <td>No</td>\n",
       "    </tr>\n",
       "    <tr>\n",
       "      <th>1</th>\n",
       "      <td>5575-GNVDE</td>\n",
       "      <td>Male</td>\n",
       "      <td>0</td>\n",
       "      <td>No</td>\n",
       "      <td>No</td>\n",
       "      <td>34</td>\n",
       "      <td>Yes</td>\n",
       "      <td>No</td>\n",
       "      <td>DSL</td>\n",
       "      <td>Yes</td>\n",
       "      <td>No</td>\n",
       "      <td>Yes</td>\n",
       "      <td>No</td>\n",
       "      <td>No</td>\n",
       "      <td>No</td>\n",
       "      <td>One year</td>\n",
       "      <td>No</td>\n",
       "      <td>Mailed check</td>\n",
       "      <td>56.95</td>\n",
       "      <td>1889.50</td>\n",
       "      <td>No</td>\n",
       "    </tr>\n",
       "    <tr>\n",
       "      <th>2</th>\n",
       "      <td>3668-QPYBK</td>\n",
       "      <td>Male</td>\n",
       "      <td>0</td>\n",
       "      <td>No</td>\n",
       "      <td>No</td>\n",
       "      <td>2</td>\n",
       "      <td>Yes</td>\n",
       "      <td>No</td>\n",
       "      <td>DSL</td>\n",
       "      <td>Yes</td>\n",
       "      <td>Yes</td>\n",
       "      <td>No</td>\n",
       "      <td>No</td>\n",
       "      <td>No</td>\n",
       "      <td>No</td>\n",
       "      <td>Month-to-month</td>\n",
       "      <td>Yes</td>\n",
       "      <td>Mailed check</td>\n",
       "      <td>53.85</td>\n",
       "      <td>108.15</td>\n",
       "      <td>Yes</td>\n",
       "    </tr>\n",
       "    <tr>\n",
       "      <th>3</th>\n",
       "      <td>7795-CFOCW</td>\n",
       "      <td>Male</td>\n",
       "      <td>0</td>\n",
       "      <td>No</td>\n",
       "      <td>No</td>\n",
       "      <td>45</td>\n",
       "      <td>No</td>\n",
       "      <td>No phone service</td>\n",
       "      <td>DSL</td>\n",
       "      <td>Yes</td>\n",
       "      <td>No</td>\n",
       "      <td>Yes</td>\n",
       "      <td>Yes</td>\n",
       "      <td>No</td>\n",
       "      <td>No</td>\n",
       "      <td>One year</td>\n",
       "      <td>No</td>\n",
       "      <td>Bank transfer (automatic)</td>\n",
       "      <td>42.30</td>\n",
       "      <td>1840.75</td>\n",
       "      <td>No</td>\n",
       "    </tr>\n",
       "    <tr>\n",
       "      <th>4</th>\n",
       "      <td>9237-HQITU</td>\n",
       "      <td>Female</td>\n",
       "      <td>0</td>\n",
       "      <td>No</td>\n",
       "      <td>No</td>\n",
       "      <td>2</td>\n",
       "      <td>Yes</td>\n",
       "      <td>No</td>\n",
       "      <td>Fiber optic</td>\n",
       "      <td>No</td>\n",
       "      <td>No</td>\n",
       "      <td>No</td>\n",
       "      <td>No</td>\n",
       "      <td>No</td>\n",
       "      <td>No</td>\n",
       "      <td>Month-to-month</td>\n",
       "      <td>Yes</td>\n",
       "      <td>Electronic check</td>\n",
       "      <td>70.70</td>\n",
       "      <td>151.65</td>\n",
       "      <td>Yes</td>\n",
       "    </tr>\n",
       "  </tbody>\n",
       "</table>\n",
       "</div>"
      ],
      "text/plain": [
       "   customerID  gender  SeniorCitizen Partner Dependents  tenure PhoneService  \\\n",
       "0  7590-VHVEG  Female              0     Yes         No       1           No   \n",
       "1  5575-GNVDE    Male              0      No         No      34          Yes   \n",
       "2  3668-QPYBK    Male              0      No         No       2          Yes   \n",
       "3  7795-CFOCW    Male              0      No         No      45           No   \n",
       "4  9237-HQITU  Female              0      No         No       2          Yes   \n",
       "\n",
       "      MultipleLines InternetService OnlineSecurity OnlineBackup  \\\n",
       "0  No phone service             DSL             No          Yes   \n",
       "1                No             DSL            Yes           No   \n",
       "2                No             DSL            Yes          Yes   \n",
       "3  No phone service             DSL            Yes           No   \n",
       "4                No     Fiber optic             No           No   \n",
       "\n",
       "  DeviceProtection TechSupport StreamingTV StreamingMovies        Contract  \\\n",
       "0               No          No          No              No  Month-to-month   \n",
       "1              Yes          No          No              No        One year   \n",
       "2               No          No          No              No  Month-to-month   \n",
       "3              Yes         Yes          No              No        One year   \n",
       "4               No          No          No              No  Month-to-month   \n",
       "\n",
       "  PaperlessBilling              PaymentMethod  MonthlyCharges  TotalCharges  \\\n",
       "0              Yes           Electronic check           29.85         29.85   \n",
       "1               No               Mailed check           56.95       1889.50   \n",
       "2              Yes               Mailed check           53.85        108.15   \n",
       "3               No  Bank transfer (automatic)           42.30       1840.75   \n",
       "4              Yes           Electronic check           70.70        151.65   \n",
       "\n",
       "  Churn  \n",
       "0    No  \n",
       "1    No  \n",
       "2   Yes  \n",
       "3    No  \n",
       "4   Yes  "
      ]
     },
     "execution_count": 5,
     "metadata": {},
     "output_type": "execute_result"
    }
   ],
   "source": [
    "df2=df1.copy()\n",
    "df2.head()"
   ]
  },
  {
   "cell_type": "markdown",
   "metadata": {},
   "source": [
    "# Exploratory Data Analysis"
   ]
  },
  {
   "cell_type": "code",
   "execution_count": 6,
   "metadata": {
    "scrolled": false
   },
   "outputs": [
    {
     "data": {
      "text/plain": [
       "customerID          0.000000\n",
       "gender              0.000000\n",
       "SeniorCitizen       0.000000\n",
       "Partner             0.000000\n",
       "Dependents          0.000000\n",
       "tenure              0.000000\n",
       "PhoneService        0.000000\n",
       "MultipleLines       0.000000\n",
       "InternetService     0.000000\n",
       "OnlineSecurity      0.000000\n",
       "OnlineBackup        0.000000\n",
       "DeviceProtection    0.000000\n",
       "TechSupport         0.000000\n",
       "StreamingTV         0.000000\n",
       "StreamingMovies     0.000000\n",
       "Contract            0.000000\n",
       "PaperlessBilling    0.000000\n",
       "PaymentMethod       0.000000\n",
       "MonthlyCharges      0.000000\n",
       "TotalCharges        0.156183\n",
       "Churn               0.000000\n",
       "dtype: float64"
      ]
     },
     "execution_count": 6,
     "metadata": {},
     "output_type": "execute_result"
    }
   ],
   "source": [
    "df2.isnull().mean()*100"
   ]
  },
  {
   "cell_type": "code",
   "execution_count": 7,
   "metadata": {},
   "outputs": [],
   "source": [
    "#There is 0.15% of null data in total charges check outliers if any."
   ]
  },
  {
   "cell_type": "markdown",
   "metadata": {},
   "source": [
    "# Feature Engineering "
   ]
  },
  {
   "cell_type": "code",
   "execution_count": 8,
   "metadata": {},
   "outputs": [],
   "source": [
    "#categorising numeric and categorical features "
   ]
  },
  {
   "cell_type": "code",
   "execution_count": 9,
   "metadata": {},
   "outputs": [
    {
     "name": "stdout",
     "output_type": "stream",
     "text": [
      "Numeric Features:\n",
      " Index(['SeniorCitizen', 'tenure', 'MonthlyCharges', 'TotalCharges'], dtype='object')\n",
      "Categorical Features:\n",
      " Index(['customerID', 'gender', 'Partner', 'Dependents', 'PhoneService',\n",
      "       'MultipleLines', 'InternetService', 'OnlineSecurity', 'OnlineBackup',\n",
      "       'DeviceProtection', 'TechSupport', 'StreamingTV', 'StreamingMovies',\n",
      "       'Contract', 'PaperlessBilling', 'PaymentMethod', 'Churn'],\n",
      "      dtype='object')\n"
     ]
    }
   ],
   "source": [
    "numeric_features = df2.select_dtypes(include=[np.number])\n",
    "categorical_features = df2.select_dtypes(include=[np.object])\n",
    "\n",
    "print('Numeric Features:\\n', numeric_features.columns)\n",
    "print('Categorical Features:\\n', categorical_features.columns)"
   ]
  },
  {
   "cell_type": "code",
   "execution_count": 10,
   "metadata": {},
   "outputs": [],
   "source": [
    "# Univariate analysis for numeric and catogorical seperatly using histogram and countplots respectively "
   ]
  },
  {
   "cell_type": "code",
   "execution_count": 11,
   "metadata": {},
   "outputs": [],
   "source": [
    "## DATA VISUALIZATION"
   ]
  },
  {
   "cell_type": "code",
   "execution_count": 12,
   "metadata": {},
   "outputs": [
    {
     "data": {
      "image/png": "[encoded data removed]",
      "text/plain": [
       "<Figure size 720x720 with 4 Axes>"
      ]
     },
     "metadata": {
      "needs_background": "light"
     },
     "output_type": "display_data"
    }
   ],
   "source": [
    "# create a histogram plot of each Numerical variable\n",
    "ax = df2.hist(figsize=(10,10))\n",
    "plt.show()"
   ]
  },
  {
   "cell_type": "code",
   "execution_count": 13,
   "metadata": {},
   "outputs": [
    {
     "data": {
      "text/html": [
       "<div>\n",
       "<style scoped>\n",
       "    .dataframe tbody tr th:only-of-type {\n",
       "        vertical-align: middle;\n",
       "    }\n",
       "\n",
       "    .dataframe tbody tr th {\n",
       "        vertical-align: top;\n",
       "    }\n",
       "\n",
       "    .dataframe thead th {\n",
       "        text-align: right;\n",
       "    }\n",
       "</style>\n",
       "<table border=\"1\" class=\"dataframe\">\n",
       "  <thead>\n",
       "    <tr style=\"text-align: right;\">\n",
       "      <th></th>\n",
       "      <th>SeniorCitizen</th>\n",
       "      <th>tenure</th>\n",
       "      <th>MonthlyCharges</th>\n",
       "      <th>TotalCharges</th>\n",
       "    </tr>\n",
       "  </thead>\n",
       "  <tbody>\n",
       "    <tr>\n",
       "      <th>count</th>\n",
       "      <td>7043.000000</td>\n",
       "      <td>7043.000000</td>\n",
       "      <td>7043.000000</td>\n",
       "      <td>7032.000000</td>\n",
       "    </tr>\n",
       "    <tr>\n",
       "      <th>mean</th>\n",
       "      <td>0.162147</td>\n",
       "      <td>32.371149</td>\n",
       "      <td>64.761692</td>\n",
       "      <td>2283.300441</td>\n",
       "    </tr>\n",
       "    <tr>\n",
       "      <th>std</th>\n",
       "      <td>0.368612</td>\n",
       "      <td>24.559481</td>\n",
       "      <td>30.090047</td>\n",
       "      <td>2266.771362</td>\n",
       "    </tr>\n",
       "    <tr>\n",
       "      <th>min</th>\n",
       "      <td>0.000000</td>\n",
       "      <td>0.000000</td>\n",
       "      <td>18.250000</td>\n",
       "      <td>18.800000</td>\n",
       "    </tr>\n",
       "    <tr>\n",
       "      <th>25%</th>\n",
       "      <td>0.000000</td>\n",
       "      <td>9.000000</td>\n",
       "      <td>35.500000</td>\n",
       "      <td>401.450000</td>\n",
       "    </tr>\n",
       "    <tr>\n",
       "      <th>50%</th>\n",
       "      <td>0.000000</td>\n",
       "      <td>29.000000</td>\n",
       "      <td>70.350000</td>\n",
       "      <td>1397.475000</td>\n",
       "    </tr>\n",
       "    <tr>\n",
       "      <th>75%</th>\n",
       "      <td>0.000000</td>\n",
       "      <td>55.000000</td>\n",
       "      <td>89.850000</td>\n",
       "      <td>3794.737500</td>\n",
       "    </tr>\n",
       "    <tr>\n",
       "      <th>max</th>\n",
       "      <td>1.000000</td>\n",
       "      <td>72.000000</td>\n",
       "      <td>118.750000</td>\n",
       "      <td>8684.800000</td>\n",
       "    </tr>\n",
       "  </tbody>\n",
       "</table>\n",
       "</div>"
      ],
      "text/plain": [
       "       SeniorCitizen       tenure  MonthlyCharges  TotalCharges\n",
       "count    7043.000000  7043.000000     7043.000000   7032.000000\n",
       "mean        0.162147    32.371149       64.761692   2283.300441\n",
       "std         0.368612    24.559481       30.090047   2266.771362\n",
       "min         0.000000     0.000000       18.250000     18.800000\n",
       "25%         0.000000     9.000000       35.500000    401.450000\n",
       "50%         0.000000    29.000000       70.350000   1397.475000\n",
       "75%         0.000000    55.000000       89.850000   3794.737500\n",
       "max         1.000000    72.000000      118.750000   8684.800000"
      ]
     },
     "execution_count": 13,
     "metadata": {},
     "output_type": "execute_result"
    }
   ],
   "source": [
    "df2.describe()"
   ]
  },
  {
   "cell_type": "code",
   "execution_count": 14,
   "metadata": {
    "scrolled": true
   },
   "outputs": [
    {
     "data": {
      "text/plain": [
       "SeniorCitizen      0\n",
       "tenure             0\n",
       "MonthlyCharges     0\n",
       "TotalCharges      11\n",
       "dtype: int64"
      ]
     },
     "execution_count": 14,
     "metadata": {},
     "output_type": "execute_result"
    }
   ],
   "source": [
    "df2.select_dtypes(include=[np.number]).isnull().sum()"
   ]
  },
  {
   "cell_type": "code",
   "execution_count": 15,
   "metadata": {},
   "outputs": [
    {
     "data": {
      "text/plain": [
       "SeniorCitizen        0.000\n",
       "tenure              29.000\n",
       "MonthlyCharges      70.350\n",
       "TotalCharges      1397.475\n",
       "dtype: float64"
      ]
     },
     "execution_count": 15,
     "metadata": {},
     "output_type": "execute_result"
    }
   ],
   "source": [
    "df2.median()"
   ]
  },
  {
   "cell_type": "code",
   "execution_count": 16,
   "metadata": {},
   "outputs": [],
   "source": [
    "df2['TotalCharges'] = df2['TotalCharges'].replace(np.nan, 1397.475)"
   ]
  },
  {
   "cell_type": "code",
   "execution_count": 17,
   "metadata": {},
   "outputs": [
    {
     "data": {
      "text/plain": [
       "SeniorCitizen     0\n",
       "tenure            0\n",
       "MonthlyCharges    0\n",
       "TotalCharges      0\n",
       "dtype: int64"
      ]
     },
     "execution_count": 17,
     "metadata": {},
     "output_type": "execute_result"
    }
   ],
   "source": [
    "df2.select_dtypes(include=[np.number]).isnull().sum()"
   ]
  },
  {
   "cell_type": "code",
   "execution_count": 18,
   "metadata": {},
   "outputs": [
    {
     "data": {
      "text/html": [
       "<div>\n",
       "<style scoped>\n",
       "    .dataframe tbody tr th:only-of-type {\n",
       "        vertical-align: middle;\n",
       "    }\n",
       "\n",
       "    .dataframe tbody tr th {\n",
       "        vertical-align: top;\n",
       "    }\n",
       "\n",
       "    .dataframe thead th {\n",
       "        text-align: right;\n",
       "    }\n",
       "</style>\n",
       "<table border=\"1\" class=\"dataframe\">\n",
       "  <thead>\n",
       "    <tr style=\"text-align: right;\">\n",
       "      <th></th>\n",
       "      <th>count</th>\n",
       "      <th>mean</th>\n",
       "      <th>std</th>\n",
       "      <th>min</th>\n",
       "      <th>25%</th>\n",
       "      <th>50%</th>\n",
       "      <th>75%</th>\n",
       "      <th>max</th>\n",
       "    </tr>\n",
       "  </thead>\n",
       "  <tbody>\n",
       "    <tr>\n",
       "      <th>SeniorCitizen</th>\n",
       "      <td>7043.0</td>\n",
       "      <td>0.162147</td>\n",
       "      <td>0.368612</td>\n",
       "      <td>0.00</td>\n",
       "      <td>0.000</td>\n",
       "      <td>0.000</td>\n",
       "      <td>0.00</td>\n",
       "      <td>1.00</td>\n",
       "    </tr>\n",
       "    <tr>\n",
       "      <th>tenure</th>\n",
       "      <td>7043.0</td>\n",
       "      <td>32.371149</td>\n",
       "      <td>24.559481</td>\n",
       "      <td>0.00</td>\n",
       "      <td>9.000</td>\n",
       "      <td>29.000</td>\n",
       "      <td>55.00</td>\n",
       "      <td>72.00</td>\n",
       "    </tr>\n",
       "    <tr>\n",
       "      <th>MonthlyCharges</th>\n",
       "      <td>7043.0</td>\n",
       "      <td>64.761692</td>\n",
       "      <td>30.090047</td>\n",
       "      <td>18.25</td>\n",
       "      <td>35.500</td>\n",
       "      <td>70.350</td>\n",
       "      <td>89.85</td>\n",
       "      <td>118.75</td>\n",
       "    </tr>\n",
       "    <tr>\n",
       "      <th>TotalCharges</th>\n",
       "      <td>7043.0</td>\n",
       "      <td>2281.916928</td>\n",
       "      <td>2265.270398</td>\n",
       "      <td>18.80</td>\n",
       "      <td>402.225</td>\n",
       "      <td>1397.475</td>\n",
       "      <td>3786.60</td>\n",
       "      <td>8684.80</td>\n",
       "    </tr>\n",
       "  </tbody>\n",
       "</table>\n",
       "</div>"
      ],
      "text/plain": [
       "                 count         mean          std    min      25%       50%  \\\n",
       "SeniorCitizen   7043.0     0.162147     0.368612   0.00    0.000     0.000   \n",
       "tenure          7043.0    32.371149    24.559481   0.00    9.000    29.000   \n",
       "MonthlyCharges  7043.0    64.761692    30.090047  18.25   35.500    70.350   \n",
       "TotalCharges    7043.0  2281.916928  2265.270398  18.80  402.225  1397.475   \n",
       "\n",
       "                    75%      max  \n",
       "SeniorCitizen      0.00     1.00  \n",
       "tenure            55.00    72.00  \n",
       "MonthlyCharges    89.85   118.75  \n",
       "TotalCharges    3786.60  8684.80  "
      ]
     },
     "execution_count": 18,
     "metadata": {},
     "output_type": "execute_result"
    }
   ],
   "source": [
    "# we have to deal with outliiers in each numeric variable \n",
    "df2.describe().T"
   ]
  },
  {
   "cell_type": "code",
   "execution_count": 19,
   "metadata": {},
   "outputs": [],
   "source": [
    "df3=df2.copy()\n",
    "# we will do the numerical transformation in df4 , so that if we din get a good accuracy we can always come back and start with df3"
   ]
  },
  {
   "cell_type": "code",
   "execution_count": 20,
   "metadata": {},
   "outputs": [
    {
     "data": {
      "image/png": "[encoded data removed]",
      "text/plain": [
       "<Figure size 432x288 with 1 Axes>"
      ]
     },
     "metadata": {},
     "output_type": "display_data"
    }
   ],
   "source": [
    "#univariate analysis \n",
    "#Total Charges -no nulls, need to check for outlier and do the needfull\n",
    "import seaborn as sns\n",
    "sns.set(style=\"whitegrid\")\n",
    "ax = sns.boxplot(x=df3[\"TotalCharges\"])"
   ]
  },
  {
   "cell_type": "code",
   "execution_count": 21,
   "metadata": {},
   "outputs": [
    {
     "data": {
      "image/png": "[encoded data removed]",
      "text/plain": [
       "<Figure size 432x288 with 1 Axes>"
      ]
     },
     "metadata": {},
     "output_type": "display_data"
    }
   ],
   "source": [
    "sns.set(style=\"whitegrid\")\n",
    "ax = sns.boxplot(x=df3[\"MonthlyCharges\"])"
   ]
  },
  {
   "cell_type": "code",
   "execution_count": 22,
   "metadata": {},
   "outputs": [
    {
     "data": {
      "image/png": "[encoded data removed]",
      "text/plain": [
       "<Figure size 432x288 with 1 Axes>"
      ]
     },
     "metadata": {},
     "output_type": "display_data"
    }
   ],
   "source": [
    "sns.set(style=\"whitegrid\")\n",
    "ax = sns.boxplot(x=df3[\"tenure\"])"
   ]
  },
  {
   "cell_type": "code",
   "execution_count": 23,
   "metadata": {},
   "outputs": [],
   "source": [
    "#From boxplots there are no visible ouliers in the numerical categories"
   ]
  },
  {
   "cell_type": "code",
   "execution_count": 24,
   "metadata": {},
   "outputs": [
    {
     "data": {
      "text/plain": [
       "<matplotlib.axes._subplots.AxesSubplot at 0x855e63fac8>"
      ]
     },
     "execution_count": 24,
     "metadata": {},
     "output_type": "execute_result"
    },
    {
     "data": {
      "image/png": "[encoded data removed]",
      "text/plain": [
       "<Figure size 2160x2160 with 14 Axes>"
      ]
     },
     "metadata": {},
     "output_type": "display_data"
    }
   ],
   "source": [
    "fig = plt.figure(figsize = (30,30))\n",
    "\n",
    "ax1 = fig.add_subplot(6,4,1)\n",
    "sns.countplot(data = df3, x = 'MultipleLines', ax=ax1)\n",
    "ax2 = fig.add_subplot(6,4,2)\n",
    "sns.countplot(data = df3, x = 'InternetService', ax=ax2)\n",
    "ax3 = fig.add_subplot(6,4,3)\n",
    "sns.countplot(data = df3, x = 'Contract', ax=ax3)\n",
    "ax3 = fig.add_subplot(6,4,4)\n",
    "sns.countplot(data = df3, x = 'PaymentMethod', ax=ax3)\n",
    "ax3 = fig.add_subplot(6,4,5)\n",
    "sns.countplot(data = df3, x = 'Partner', ax=ax3)\n",
    "ax3 = fig.add_subplot(6,4,6)\n",
    "sns.countplot(data = df3, x = 'Dependents', ax=ax3)\n",
    "ax3 = fig.add_subplot(6,4,7)\n",
    "sns.countplot(data = df3, x = 'PhoneService', ax=ax3)\n",
    "ax3 = fig.add_subplot(6,5,8)\n",
    "sns.countplot(data = df3, x = 'OnlineSecurity', ax=ax3)\n",
    "ax3 = fig.add_subplot(6,5,9)\n",
    "sns.countplot(data = df3, x = 'OnlineBackup', ax=ax3)\n",
    "ax3 = fig.add_subplot(6,5,10)\n",
    "sns.countplot(data = df3, x = 'DeviceProtection', ax=ax3)\n",
    "ax3 = fig.add_subplot(6,5,11)\n",
    "sns.countplot(data = df3, x = 'TechSupport', ax=ax3)\n",
    "ax3 = fig.add_subplot(6,5,12)\n",
    "sns.countplot(data = df3, x = 'StreamingTV', ax=ax3)\n",
    "ax3 = fig.add_subplot(6,5,13)\n",
    "sns.countplot(data = df3, x = 'StreamingMovies', ax=ax3)\n",
    "ax3 = fig.add_subplot(6,5,14)\n",
    "sns.countplot(data = df3, x = 'PaperlessBilling', ax=ax3)"
   ]
  },
  {
   "cell_type": "code",
   "execution_count": 25,
   "metadata": {},
   "outputs": [],
   "source": [
    "# from the countplot of the categorical variable we came to knpw that there is less cardinality."
   ]
  },
  {
   "cell_type": "code",
   "execution_count": 26,
   "metadata": {},
   "outputs": [],
   "source": [
    "import warnings\n",
    "warnings.filterwarnings('ignore')"
   ]
  },
  {
   "cell_type": "code",
   "execution_count": 27,
   "metadata": {},
   "outputs": [],
   "source": [
    "df3.drop(\"customerID\",axis=1,inplace=True)"
   ]
  },
  {
   "cell_type": "code",
   "execution_count": 28,
   "metadata": {},
   "outputs": [
    {
     "data": {
      "text/html": [
       "<div>\n",
       "<style scoped>\n",
       "    .dataframe tbody tr th:only-of-type {\n",
       "        vertical-align: middle;\n",
       "    }\n",
       "\n",
       "    .dataframe tbody tr th {\n",
       "        vertical-align: top;\n",
       "    }\n",
       "\n",
       "    .dataframe thead th {\n",
       "        text-align: right;\n",
       "    }\n",
       "</style>\n",
       "<table border=\"1\" class=\"dataframe\">\n",
       "  <thead>\n",
       "    <tr style=\"text-align: right;\">\n",
       "      <th></th>\n",
       "      <th>gender</th>\n",
       "      <th>SeniorCitizen</th>\n",
       "      <th>Partner</th>\n",
       "      <th>Dependents</th>\n",
       "      <th>tenure</th>\n",
       "      <th>PhoneService</th>\n",
       "      <th>MultipleLines</th>\n",
       "      <th>InternetService</th>\n",
       "      <th>OnlineSecurity</th>\n",
       "      <th>OnlineBackup</th>\n",
       "      <th>DeviceProtection</th>\n",
       "      <th>TechSupport</th>\n",
       "      <th>StreamingTV</th>\n",
       "      <th>StreamingMovies</th>\n",
       "      <th>Contract</th>\n",
       "      <th>PaperlessBilling</th>\n",
       "      <th>PaymentMethod</th>\n",
       "      <th>MonthlyCharges</th>\n",
       "      <th>TotalCharges</th>\n",
       "      <th>Churn</th>\n",
       "    </tr>\n",
       "  </thead>\n",
       "  <tbody>\n",
       "    <tr>\n",
       "      <th>0</th>\n",
       "      <td>Female</td>\n",
       "      <td>0</td>\n",
       "      <td>Yes</td>\n",
       "      <td>No</td>\n",
       "      <td>1</td>\n",
       "      <td>No</td>\n",
       "      <td>No phone service</td>\n",
       "      <td>DSL</td>\n",
       "      <td>No</td>\n",
       "      <td>Yes</td>\n",
       "      <td>No</td>\n",
       "      <td>No</td>\n",
       "      <td>No</td>\n",
       "      <td>No</td>\n",
       "      <td>Month-to-month</td>\n",
       "      <td>Yes</td>\n",
       "      <td>Electronic check</td>\n",
       "      <td>29.85</td>\n",
       "      <td>29.85</td>\n",
       "      <td>No</td>\n",
       "    </tr>\n",
       "    <tr>\n",
       "      <th>1</th>\n",
       "      <td>Male</td>\n",
       "      <td>0</td>\n",
       "      <td>No</td>\n",
       "      <td>No</td>\n",
       "      <td>34</td>\n",
       "      <td>Yes</td>\n",
       "      <td>No</td>\n",
       "      <td>DSL</td>\n",
       "      <td>Yes</td>\n",
       "      <td>No</td>\n",
       "      <td>Yes</td>\n",
       "      <td>No</td>\n",
       "      <td>No</td>\n",
       "      <td>No</td>\n",
       "      <td>One year</td>\n",
       "      <td>No</td>\n",
       "      <td>Mailed check</td>\n",
       "      <td>56.95</td>\n",
       "      <td>1889.50</td>\n",
       "      <td>No</td>\n",
       "    </tr>\n",
       "    <tr>\n",
       "      <th>2</th>\n",
       "      <td>Male</td>\n",
       "      <td>0</td>\n",
       "      <td>No</td>\n",
       "      <td>No</td>\n",
       "      <td>2</td>\n",
       "      <td>Yes</td>\n",
       "      <td>No</td>\n",
       "      <td>DSL</td>\n",
       "      <td>Yes</td>\n",
       "      <td>Yes</td>\n",
       "      <td>No</td>\n",
       "      <td>No</td>\n",
       "      <td>No</td>\n",
       "      <td>No</td>\n",
       "      <td>Month-to-month</td>\n",
       "      <td>Yes</td>\n",
       "      <td>Mailed check</td>\n",
       "      <td>53.85</td>\n",
       "      <td>108.15</td>\n",
       "      <td>Yes</td>\n",
       "    </tr>\n",
       "    <tr>\n",
       "      <th>3</th>\n",
       "      <td>Male</td>\n",
       "      <td>0</td>\n",
       "      <td>No</td>\n",
       "      <td>No</td>\n",
       "      <td>45</td>\n",
       "      <td>No</td>\n",
       "      <td>No phone service</td>\n",
       "      <td>DSL</td>\n",
       "      <td>Yes</td>\n",
       "      <td>No</td>\n",
       "      <td>Yes</td>\n",
       "      <td>Yes</td>\n",
       "      <td>No</td>\n",
       "      <td>No</td>\n",
       "      <td>One year</td>\n",
       "      <td>No</td>\n",
       "      <td>Bank transfer (automatic)</td>\n",
       "      <td>42.30</td>\n",
       "      <td>1840.75</td>\n",
       "      <td>No</td>\n",
       "    </tr>\n",
       "    <tr>\n",
       "      <th>4</th>\n",
       "      <td>Female</td>\n",
       "      <td>0</td>\n",
       "      <td>No</td>\n",
       "      <td>No</td>\n",
       "      <td>2</td>\n",
       "      <td>Yes</td>\n",
       "      <td>No</td>\n",
       "      <td>Fiber optic</td>\n",
       "      <td>No</td>\n",
       "      <td>No</td>\n",
       "      <td>No</td>\n",
       "      <td>No</td>\n",
       "      <td>No</td>\n",
       "      <td>No</td>\n",
       "      <td>Month-to-month</td>\n",
       "      <td>Yes</td>\n",
       "      <td>Electronic check</td>\n",
       "      <td>70.70</td>\n",
       "      <td>151.65</td>\n",
       "      <td>Yes</td>\n",
       "    </tr>\n",
       "  </tbody>\n",
       "</table>\n",
       "</div>"
      ],
      "text/plain": [
       "   gender  SeniorCitizen Partner Dependents  tenure PhoneService  \\\n",
       "0  Female              0     Yes         No       1           No   \n",
       "1    Male              0      No         No      34          Yes   \n",
       "2    Male              0      No         No       2          Yes   \n",
       "3    Male              0      No         No      45           No   \n",
       "4  Female              0      No         No       2          Yes   \n",
       "\n",
       "      MultipleLines InternetService OnlineSecurity OnlineBackup  \\\n",
       "0  No phone service             DSL             No          Yes   \n",
       "1                No             DSL            Yes           No   \n",
       "2                No             DSL            Yes          Yes   \n",
       "3  No phone service             DSL            Yes           No   \n",
       "4                No     Fiber optic             No           No   \n",
       "\n",
       "  DeviceProtection TechSupport StreamingTV StreamingMovies        Contract  \\\n",
       "0               No          No          No              No  Month-to-month   \n",
       "1              Yes          No          No              No        One year   \n",
       "2               No          No          No              No  Month-to-month   \n",
       "3              Yes         Yes          No              No        One year   \n",
       "4               No          No          No              No  Month-to-month   \n",
       "\n",
       "  PaperlessBilling              PaymentMethod  MonthlyCharges  TotalCharges  \\\n",
       "0              Yes           Electronic check           29.85         29.85   \n",
       "1               No               Mailed check           56.95       1889.50   \n",
       "2              Yes               Mailed check           53.85        108.15   \n",
       "3               No  Bank transfer (automatic)           42.30       1840.75   \n",
       "4              Yes           Electronic check           70.70        151.65   \n",
       "\n",
       "  Churn  \n",
       "0    No  \n",
       "1    No  \n",
       "2   Yes  \n",
       "3    No  \n",
       "4   Yes  "
      ]
     },
     "execution_count": 28,
     "metadata": {},
     "output_type": "execute_result"
    }
   ],
   "source": [
    "df3.head()"
   ]
  },
  {
   "cell_type": "code",
   "execution_count": 29,
   "metadata": {},
   "outputs": [],
   "source": [
    "#cgange target\n",
    "Target=[]\n",
    "for x in df3[\"Churn\"]:\n",
    "    if x==\"Yes\":\n",
    "        Target.append(1)\n",
    "    else:\n",
    "        Target.append(0)\n",
    "        \n",
    "df3[\"Target\"]=Target\n",
    "        \n",
    "        \n",
    "        \n",
    " \n",
    "        \n",
    "    "
   ]
  },
  {
   "cell_type": "code",
   "execution_count": 30,
   "metadata": {
    "scrolled": true
   },
   "outputs": [
    {
     "data": {
      "text/html": [
       "<div>\n",
       "<style scoped>\n",
       "    .dataframe tbody tr th:only-of-type {\n",
       "        vertical-align: middle;\n",
       "    }\n",
       "\n",
       "    .dataframe tbody tr th {\n",
       "        vertical-align: top;\n",
       "    }\n",
       "\n",
       "    .dataframe thead th {\n",
       "        text-align: right;\n",
       "    }\n",
       "</style>\n",
       "<table border=\"1\" class=\"dataframe\">\n",
       "  <thead>\n",
       "    <tr style=\"text-align: right;\">\n",
       "      <th></th>\n",
       "      <th>gender</th>\n",
       "      <th>SeniorCitizen</th>\n",
       "      <th>Partner</th>\n",
       "      <th>Dependents</th>\n",
       "      <th>tenure</th>\n",
       "      <th>PhoneService</th>\n",
       "      <th>MultipleLines</th>\n",
       "      <th>InternetService</th>\n",
       "      <th>OnlineSecurity</th>\n",
       "      <th>OnlineBackup</th>\n",
       "      <th>DeviceProtection</th>\n",
       "      <th>TechSupport</th>\n",
       "      <th>StreamingTV</th>\n",
       "      <th>StreamingMovies</th>\n",
       "      <th>Contract</th>\n",
       "      <th>PaperlessBilling</th>\n",
       "      <th>PaymentMethod</th>\n",
       "      <th>MonthlyCharges</th>\n",
       "      <th>TotalCharges</th>\n",
       "      <th>Churn</th>\n",
       "      <th>Target</th>\n",
       "    </tr>\n",
       "  </thead>\n",
       "  <tbody>\n",
       "    <tr>\n",
       "      <th>0</th>\n",
       "      <td>Female</td>\n",
       "      <td>0</td>\n",
       "      <td>Yes</td>\n",
       "      <td>No</td>\n",
       "      <td>1</td>\n",
       "      <td>No</td>\n",
       "      <td>No phone service</td>\n",
       "      <td>DSL</td>\n",
       "      <td>No</td>\n",
       "      <td>Yes</td>\n",
       "      <td>No</td>\n",
       "      <td>No</td>\n",
       "      <td>No</td>\n",
       "      <td>No</td>\n",
       "      <td>Month-to-month</td>\n",
       "      <td>Yes</td>\n",
       "      <td>Electronic check</td>\n",
       "      <td>29.85</td>\n",
       "      <td>29.85</td>\n",
       "      <td>No</td>\n",
       "      <td>0</td>\n",
       "    </tr>\n",
       "    <tr>\n",
       "      <th>1</th>\n",
       "      <td>Male</td>\n",
       "      <td>0</td>\n",
       "      <td>No</td>\n",
       "      <td>No</td>\n",
       "      <td>34</td>\n",
       "      <td>Yes</td>\n",
       "      <td>No</td>\n",
       "      <td>DSL</td>\n",
       "      <td>Yes</td>\n",
       "      <td>No</td>\n",
       "      <td>Yes</td>\n",
       "      <td>No</td>\n",
       "      <td>No</td>\n",
       "      <td>No</td>\n",
       "      <td>One year</td>\n",
       "      <td>No</td>\n",
       "      <td>Mailed check</td>\n",
       "      <td>56.95</td>\n",
       "      <td>1889.50</td>\n",
       "      <td>No</td>\n",
       "      <td>0</td>\n",
       "    </tr>\n",
       "    <tr>\n",
       "      <th>2</th>\n",
       "      <td>Male</td>\n",
       "      <td>0</td>\n",
       "      <td>No</td>\n",
       "      <td>No</td>\n",
       "      <td>2</td>\n",
       "      <td>Yes</td>\n",
       "      <td>No</td>\n",
       "      <td>DSL</td>\n",
       "      <td>Yes</td>\n",
       "      <td>Yes</td>\n",
       "      <td>No</td>\n",
       "      <td>No</td>\n",
       "      <td>No</td>\n",
       "      <td>No</td>\n",
       "      <td>Month-to-month</td>\n",
       "      <td>Yes</td>\n",
       "      <td>Mailed check</td>\n",
       "      <td>53.85</td>\n",
       "      <td>108.15</td>\n",
       "      <td>Yes</td>\n",
       "      <td>1</td>\n",
       "    </tr>\n",
       "    <tr>\n",
       "      <th>3</th>\n",
       "      <td>Male</td>\n",
       "      <td>0</td>\n",
       "      <td>No</td>\n",
       "      <td>No</td>\n",
       "      <td>45</td>\n",
       "      <td>No</td>\n",
       "      <td>No phone service</td>\n",
       "      <td>DSL</td>\n",
       "      <td>Yes</td>\n",
       "      <td>No</td>\n",
       "      <td>Yes</td>\n",
       "      <td>Yes</td>\n",
       "      <td>No</td>\n",
       "      <td>No</td>\n",
       "      <td>One year</td>\n",
       "      <td>No</td>\n",
       "      <td>Bank transfer (automatic)</td>\n",
       "      <td>42.30</td>\n",
       "      <td>1840.75</td>\n",
       "      <td>No</td>\n",
       "      <td>0</td>\n",
       "    </tr>\n",
       "    <tr>\n",
       "      <th>4</th>\n",
       "      <td>Female</td>\n",
       "      <td>0</td>\n",
       "      <td>No</td>\n",
       "      <td>No</td>\n",
       "      <td>2</td>\n",
       "      <td>Yes</td>\n",
       "      <td>No</td>\n",
       "      <td>Fiber optic</td>\n",
       "      <td>No</td>\n",
       "      <td>No</td>\n",
       "      <td>No</td>\n",
       "      <td>No</td>\n",
       "      <td>No</td>\n",
       "      <td>No</td>\n",
       "      <td>Month-to-month</td>\n",
       "      <td>Yes</td>\n",
       "      <td>Electronic check</td>\n",
       "      <td>70.70</td>\n",
       "      <td>151.65</td>\n",
       "      <td>Yes</td>\n",
       "      <td>1</td>\n",
       "    </tr>\n",
       "  </tbody>\n",
       "</table>\n",
       "</div>"
      ],
      "text/plain": [
       "   gender  SeniorCitizen Partner Dependents  tenure PhoneService  \\\n",
       "0  Female              0     Yes         No       1           No   \n",
       "1    Male              0      No         No      34          Yes   \n",
       "2    Male              0      No         No       2          Yes   \n",
       "3    Male              0      No         No      45           No   \n",
       "4  Female              0      No         No       2          Yes   \n",
       "\n",
       "      MultipleLines InternetService OnlineSecurity OnlineBackup  \\\n",
       "0  No phone service             DSL             No          Yes   \n",
       "1                No             DSL            Yes           No   \n",
       "2                No             DSL            Yes          Yes   \n",
       "3  No phone service             DSL            Yes           No   \n",
       "4                No     Fiber optic             No           No   \n",
       "\n",
       "  DeviceProtection TechSupport StreamingTV StreamingMovies        Contract  \\\n",
       "0               No          No          No              No  Month-to-month   \n",
       "1              Yes          No          No              No        One year   \n",
       "2               No          No          No              No  Month-to-month   \n",
       "3              Yes         Yes          No              No        One year   \n",
       "4               No          No          No              No  Month-to-month   \n",
       "\n",
       "  PaperlessBilling              PaymentMethod  MonthlyCharges  TotalCharges  \\\n",
       "0              Yes           Electronic check           29.85         29.85   \n",
       "1               No               Mailed check           56.95       1889.50   \n",
       "2              Yes               Mailed check           53.85        108.15   \n",
       "3               No  Bank transfer (automatic)           42.30       1840.75   \n",
       "4              Yes           Electronic check           70.70        151.65   \n",
       "\n",
       "  Churn  Target  \n",
       "0    No       0  \n",
       "1    No       0  \n",
       "2   Yes       1  \n",
       "3    No       0  \n",
       "4   Yes       1  "
      ]
     },
     "execution_count": 30,
     "metadata": {},
     "output_type": "execute_result"
    }
   ],
   "source": [
    "df3.head()"
   ]
  },
  {
   "cell_type": "code",
   "execution_count": 31,
   "metadata": {},
   "outputs": [],
   "source": [
    "df4=df3.drop(\"Churn\",axis=1)"
   ]
  },
  {
   "cell_type": "code",
   "execution_count": 32,
   "metadata": {},
   "outputs": [],
   "source": [
    "#one hot encoding \n",
    "df5=pd.get_dummies(df4)"
   ]
  },
  {
   "cell_type": "code",
   "execution_count": 33,
   "metadata": {},
   "outputs": [
    {
     "data": {
      "text/plain": [
       "(7043, 46)"
      ]
     },
     "execution_count": 33,
     "metadata": {},
     "output_type": "execute_result"
    }
   ],
   "source": [
    "df5.shape"
   ]
  },
  {
   "cell_type": "code",
   "execution_count": 34,
   "metadata": {
    "scrolled": false
   },
   "outputs": [],
   "source": [
    "df5.head()\n",
    "data1=df5.copy()"
   ]
  },
  {
   "cell_type": "code",
   "execution_count": 35,
   "metadata": {},
   "outputs": [],
   "source": [
    "\n",
    "X=data1.drop(\"Target\",axis=1)\n",
    "y=data1[\"Target\"]"
   ]
  },
  {
   "cell_type": "code",
   "execution_count": 36,
   "metadata": {},
   "outputs": [],
   "source": [
    "from sklearn.model_selection import train_test_split\n",
    "X_train,X_test,y_train,y_test=train_test_split(X,y,test_size=0.20,random_state=400)"
   ]
  },
  {
   "cell_type": "code",
   "execution_count": 37,
   "metadata": {},
   "outputs": [],
   "source": [
    "from sklearn.ensemble import RandomForestClassifier"
   ]
  },
  {
   "cell_type": "code",
   "execution_count": 38,
   "metadata": {},
   "outputs": [],
   "source": [
    "clf=RandomForestClassifier(n_estimators=80,oob_score=True,n_jobs=-1,random_state=400)"
   ]
  },
  {
   "cell_type": "code",
   "execution_count": 39,
   "metadata": {},
   "outputs": [
    {
     "data": {
      "text/plain": [
       "RandomForestClassifier(bootstrap=True, ccp_alpha=0.0, class_weight=None,\n",
       "                       criterion='gini', max_depth=None, max_features='auto',\n",
       "                       max_leaf_nodes=None, max_samples=None,\n",
       "                       min_impurity_decrease=0.0, min_impurity_split=None,\n",
       "                       min_samples_leaf=1, min_samples_split=2,\n",
       "                       min_weight_fraction_leaf=0.0, n_estimators=80, n_jobs=-1,\n",
       "                       oob_score=True, random_state=400, verbose=0,\n",
       "                       warm_start=False)"
      ]
     },
     "execution_count": 39,
     "metadata": {},
     "output_type": "execute_result"
    }
   ],
   "source": [
    "clf.fit(X_train,y_train)"
   ]
  },
  {
   "cell_type": "code",
   "execution_count": 40,
   "metadata": {},
   "outputs": [
    {
     "data": {
      "text/plain": [
       "0.7836350727724529"
      ]
     },
     "execution_count": 40,
     "metadata": {},
     "output_type": "execute_result"
    }
   ],
   "source": [
    "clf.oob_score_"
   ]
  },
  {
   "cell_type": "code",
   "execution_count": 41,
   "metadata": {},
   "outputs": [
    {
     "name": "stdout",
     "output_type": "stream",
     "text": [
      "For n_estimators = 50\n",
      "OOB score is 0.7795527156549521\n",
      "************************\n",
      "For n_estimators = 60\n",
      "OOB score is 0.7815051473198438\n",
      "************************\n",
      "For n_estimators = 70\n",
      "OOB score is 0.7834575789847356\n",
      "************************\n",
      "For n_estimators = 80\n",
      "OOB score is 0.7836350727724529\n",
      "************************\n",
      "For n_estimators = 90\n",
      "OOB score is 0.7834575789847356\n",
      "************************\n"
     ]
    }
   ],
   "source": [
    "for w in range(50,100,10):\n",
    "    clf=RandomForestClassifier(n_estimators=w,oob_score=True,n_jobs=-1,random_state=400)\n",
    "    clf.fit(X_train,y_train)\n",
    "    oob=clf.oob_score_\n",
    "    print('For n_estimators = '+str(w))\n",
    "    print('OOB score is '+str(oob))\n",
    "    print('************************')"
   ]
  },
  {
   "cell_type": "code",
   "execution_count": 42,
   "metadata": {},
   "outputs": [
    {
     "name": "stdout",
     "output_type": "stream",
     "text": [
      "For n_estimators = 100\n",
      "OOB score is 0.7829250976215832\n",
      "************************\n",
      "For n_estimators = 110\n",
      "OOB score is 0.7829250976215832\n",
      "************************\n",
      "For n_estimators = 120\n",
      "OOB score is 0.7806176783812566\n",
      "************************\n",
      "For n_estimators = 130\n",
      "OOB score is 0.7815051473198438\n",
      "************************\n",
      "For n_estimators = 140\n",
      "OOB score is 0.7820376286829961\n",
      "************************\n",
      "For n_estimators = 150\n",
      "OOB score is 0.7813276535321264\n",
      "************************\n",
      "For n_estimators = 160\n",
      "OOB score is 0.7813276535321264\n",
      "************************\n",
      "For n_estimators = 170\n",
      "OOB score is 0.7795527156549521\n",
      "************************\n",
      "For n_estimators = 180\n",
      "OOB score is 0.7806176783812566\n",
      "************************\n",
      "For n_estimators = 190\n",
      "OOB score is 0.7804401845935393\n",
      "************************\n"
     ]
    }
   ],
   "source": [
    "for w in range(100,200,10):\n",
    "    clf=RandomForestClassifier(n_estimators=w,oob_score=True,n_jobs=-1,random_state=400)\n",
    "    clf.fit(X_train,y_train)\n",
    "    oob=clf.oob_score_\n",
    "    print('For n_estimators = '+str(w))\n",
    "    print('OOB score is '+str(oob))\n",
    "    print('************************')"
   ]
  },
  {
   "cell_type": "code",
   "execution_count": 43,
   "metadata": {},
   "outputs": [],
   "source": [
    "#92 trees \n",
    "clf=RandomForestClassifier(n_estimators=80,oob_score=True,n_jobs=-1,random_state=400)"
   ]
  },
  {
   "cell_type": "code",
   "execution_count": 44,
   "metadata": {},
   "outputs": [
    {
     "data": {
      "text/plain": [
       "RandomForestClassifier(bootstrap=True, ccp_alpha=0.0, class_weight=None,\n",
       "                       criterion='gini', max_depth=None, max_features='auto',\n",
       "                       max_leaf_nodes=None, max_samples=None,\n",
       "                       min_impurity_decrease=0.0, min_impurity_split=None,\n",
       "                       min_samples_leaf=1, min_samples_split=2,\n",
       "                       min_weight_fraction_leaf=0.0, n_estimators=80, n_jobs=-1,\n",
       "                       oob_score=True, random_state=400, verbose=0,\n",
       "                       warm_start=False)"
      ]
     },
     "execution_count": 44,
     "metadata": {},
     "output_type": "execute_result"
    }
   ],
   "source": [
    "clf.fit(X_train,y_train)"
   ]
  },
  {
   "cell_type": "code",
   "execution_count": 45,
   "metadata": {},
   "outputs": [
    {
     "data": {
      "text/plain": [
       "0.7836350727724529"
      ]
     },
     "execution_count": 45,
     "metadata": {},
     "output_type": "execute_result"
    }
   ],
   "source": [
    "clf.oob_score_"
   ]
  },
  {
   "cell_type": "code",
   "execution_count": 46,
   "metadata": {},
   "outputs": [
    {
     "data": {
      "text/plain": [
       "array([0.02058497, 0.13710482, 0.13898217, 0.16177668, 0.01695882,\n",
       "       0.01775963, 0.01476722, 0.014931  , 0.01238779, 0.01208146,\n",
       "       0.00321737, 0.00318897, 0.0130901 , 0.00285583, 0.01328552,\n",
       "       0.01028615, 0.02599071, 0.00203053, 0.03388868, 0.00213707,\n",
       "       0.01052846, 0.01640847, 0.0034761 , 0.01281232, 0.017159  ,\n",
       "       0.00358592, 0.011999  , 0.02977141, 0.00203046, 0.01277082,\n",
       "       0.01125511, 0.0023254 , 0.01138556, 0.01126077, 0.00200108,\n",
       "       0.01180296, 0.05227603, 0.0107367 , 0.01592224, 0.0145204 ,\n",
       "       0.01538777, 0.01186517, 0.01228109, 0.02780931, 0.01132298])"
      ]
     },
     "execution_count": 46,
     "metadata": {},
     "output_type": "execute_result"
    }
   ],
   "source": [
    "clf.feature_importances_"
   ]
  },
  {
   "cell_type": "code",
   "execution_count": 47,
   "metadata": {},
   "outputs": [],
   "source": [
    "imp_feat=pd.Series(clf.feature_importances_,index=X.columns.tolist())"
   ]
  },
  {
   "cell_type": "code",
   "execution_count": 48,
   "metadata": {},
   "outputs": [
    {
     "data": {
      "text/plain": [
       "TotalCharges                               0.161777\n",
       "MonthlyCharges                             0.138982\n",
       "tenure                                     0.137105\n",
       "Contract_Month-to-month                    0.052276\n",
       "OnlineSecurity_No                          0.033889\n",
       "TechSupport_No                             0.029771\n",
       "PaymentMethod_Electronic check             0.027809\n",
       "InternetService_Fiber optic                0.025991\n",
       "SeniorCitizen                              0.020585\n",
       "gender_Male                                0.017760\n",
       "DeviceProtection_No                        0.017159\n",
       "gender_Female                              0.016959\n",
       "OnlineBackup_No                            0.016408\n",
       "Contract_Two year                          0.015922\n",
       "PaperlessBilling_Yes                       0.015388\n",
       "Partner_Yes                                0.014931\n",
       "Partner_No                                 0.014767\n",
       "PaperlessBilling_No                        0.014520\n",
       "MultipleLines_Yes                          0.013286\n",
       "MultipleLines_No                           0.013090\n",
       "OnlineBackup_Yes                           0.012812\n",
       "TechSupport_Yes                            0.012771\n",
       "Dependents_No                              0.012388\n",
       "PaymentMethod_Credit card (automatic)      0.012281\n",
       "Dependents_Yes                             0.012081\n",
       "DeviceProtection_Yes                       0.011999\n",
       "PaymentMethod_Bank transfer (automatic)    0.011865\n",
       "StreamingMovies_Yes                        0.011803\n",
       "StreamingTV_Yes                            0.011386\n",
       "PaymentMethod_Mailed check                 0.011323\n",
       "StreamingMovies_No                         0.011261\n",
       "StreamingTV_No                             0.011255\n",
       "Contract_One year                          0.010737\n",
       "OnlineSecurity_Yes                         0.010528\n",
       "InternetService_DSL                        0.010286\n",
       "DeviceProtection_No internet service       0.003586\n",
       "OnlineBackup_No internet service           0.003476\n",
       "PhoneService_No                            0.003217\n",
       "PhoneService_Yes                           0.003189\n",
       "MultipleLines_No phone service             0.002856\n",
       "StreamingTV_No internet service            0.002325\n",
       "OnlineSecurity_No internet service         0.002137\n",
       "InternetService_No                         0.002031\n",
       "TechSupport_No internet service            0.002030\n",
       "StreamingMovies_No internet service        0.002001\n",
       "dtype: float64"
      ]
     },
     "execution_count": 48,
     "metadata": {},
     "output_type": "execute_result"
    }
   ],
   "source": [
    "pd.set_option('display.max_rows', None)\n",
    "imp_feat.sort_values(ascending=False)"
   ]
  },
  {
   "cell_type": "code",
   "execution_count": 49,
   "metadata": {},
   "outputs": [
    {
     "data": {
      "text/plain": [
       "<matplotlib.axes._subplots.AxesSubplot at 0x855fb11688>"
      ]
     },
     "execution_count": 49,
     "metadata": {},
     "output_type": "execute_result"
    },
    {
     "data": {
      "image/png": "[encoded data removed]",
      "text/plain": [
       "<Figure size 1296x360 with 1 Axes>"
      ]
     },
     "metadata": {},
     "output_type": "display_data"
    }
   ],
   "source": [
    "imp_feat.sort_values(ascending=False).plot(kind='bar',figsize=(18,5))"
   ]
  },
  {
   "cell_type": "markdown",
   "metadata": {},
   "source": [
    "# lets try with statsmodel API"
   ]
  },
  {
   "cell_type": "code",
   "execution_count": 50,
   "metadata": {},
   "outputs": [],
   "source": [
    "#lets take frst 15 columns"
   ]
  },
  {
   "cell_type": "markdown",
   "metadata": {},
   "source": [
    "TotalCharges                               0.161777\n",
    "MonthlyCharges                             0.138982\n",
    "tenure                                     0.137105\n",
    "Contract_Month-to-month                    0.052276\n",
    "OnlineSecurity_No                          0.033889\n",
    "TechSupport_No                             0.029771\n",
    "PaymentMethod_Electronic check             0.027809\n",
    "InternetService_Fiber optic                0.025991\n",
    "SeniorCitizen                              0.020585\n",
    "gender_Male                                0.017760\n",
    "DeviceProtection_No                        0.017159\n",
    "gender_Female                              0.016959\n",
    "OnlineBackup_No                            0.016408\n",
    "Contract_Two year                          0.015922\n",
    "PaperlessBilling_Yes                       0.015388"
   ]
  },
  {
   "cell_type": "markdown",
   "metadata": {},
   "source": [
    "# SKLearn logistic "
   ]
  },
  {
   "cell_type": "code",
   "execution_count": 51,
   "metadata": {},
   "outputs": [],
   "source": [
    "X=df5[['TotalCharges','MonthlyCharges','tenure','Contract_Month-to-month','OnlineSecurity_No','TechSupport_No','PaymentMethod_Electronic check','InternetService_Fiber optic','SeniorCitizen','gender_Male','DeviceProtection_No','gender_Female','OnlineBackup_No','Contract_Two year','PaperlessBilling_Yes']]\n",
    "Y=df5[['Target']]"
   ]
  },
  {
   "cell_type": "code",
   "execution_count": 52,
   "metadata": {},
   "outputs": [],
   "source": [
    "from sklearn.model_selection import train_test_split\n",
    "X_train, X_test, Y_train, Y_test = train_test_split(X, Y, test_size=0.4, random_state=250)"
   ]
  },
  {
   "cell_type": "code",
   "execution_count": 53,
   "metadata": {},
   "outputs": [],
   "source": [
    "from sklearn.linear_model import LogisticRegression \n",
    "lgr=LogisticRegression(random_state=0)"
   ]
  },
  {
   "cell_type": "code",
   "execution_count": 54,
   "metadata": {},
   "outputs": [],
   "source": [
    "Model=lgr.fit(X_train,Y_train)"
   ]
  },
  {
   "cell_type": "code",
   "execution_count": 55,
   "metadata": {},
   "outputs": [
    {
     "data": {
      "text/plain": [
       "array([[ 4.27046490e-04, -4.92742930e-03, -6.75401333e-02,\n",
       "         1.69762715e-01,  5.18808393e-01,  5.85992596e-01,\n",
       "         5.24136270e-01,  8.48160053e-01,  4.23980412e-01,\n",
       "        -5.73847960e-01,  3.17889339e-02, -4.59759783e-01,\n",
       "         1.76465535e-01, -6.88348269e-01,  2.75016239e-01]])"
      ]
     },
     "execution_count": 55,
     "metadata": {},
     "output_type": "execute_result"
    }
   ],
   "source": [
    "Model.coef_"
   ]
  },
  {
   "cell_type": "code",
   "execution_count": 56,
   "metadata": {},
   "outputs": [],
   "source": [
    "a=pd.DataFrame(data=Model.coef_,columns=X_train.columns)\n",
    "x=a.T"
   ]
  },
  {
   "cell_type": "code",
   "execution_count": 57,
   "metadata": {},
   "outputs": [
    {
     "data": {
      "text/html": [
       "<div>\n",
       "<style scoped>\n",
       "    .dataframe tbody tr th:only-of-type {\n",
       "        vertical-align: middle;\n",
       "    }\n",
       "\n",
       "    .dataframe tbody tr th {\n",
       "        vertical-align: top;\n",
       "    }\n",
       "\n",
       "    .dataframe thead th {\n",
       "        text-align: right;\n",
       "    }\n",
       "</style>\n",
       "<table border=\"1\" class=\"dataframe\">\n",
       "  <thead>\n",
       "    <tr style=\"text-align: right;\">\n",
       "      <th></th>\n",
       "      <th>0</th>\n",
       "    </tr>\n",
       "  </thead>\n",
       "  <tbody>\n",
       "    <tr>\n",
       "      <th>TotalCharges</th>\n",
       "      <td>0.000427</td>\n",
       "    </tr>\n",
       "    <tr>\n",
       "      <th>MonthlyCharges</th>\n",
       "      <td>-0.004927</td>\n",
       "    </tr>\n",
       "    <tr>\n",
       "      <th>tenure</th>\n",
       "      <td>-0.067540</td>\n",
       "    </tr>\n",
       "    <tr>\n",
       "      <th>Contract_Month-to-month</th>\n",
       "      <td>0.169763</td>\n",
       "    </tr>\n",
       "    <tr>\n",
       "      <th>OnlineSecurity_No</th>\n",
       "      <td>0.518808</td>\n",
       "    </tr>\n",
       "    <tr>\n",
       "      <th>TechSupport_No</th>\n",
       "      <td>0.585993</td>\n",
       "    </tr>\n",
       "    <tr>\n",
       "      <th>PaymentMethod_Electronic check</th>\n",
       "      <td>0.524136</td>\n",
       "    </tr>\n",
       "    <tr>\n",
       "      <th>InternetService_Fiber optic</th>\n",
       "      <td>0.848160</td>\n",
       "    </tr>\n",
       "    <tr>\n",
       "      <th>SeniorCitizen</th>\n",
       "      <td>0.423980</td>\n",
       "    </tr>\n",
       "    <tr>\n",
       "      <th>gender_Male</th>\n",
       "      <td>-0.573848</td>\n",
       "    </tr>\n",
       "    <tr>\n",
       "      <th>DeviceProtection_No</th>\n",
       "      <td>0.031789</td>\n",
       "    </tr>\n",
       "    <tr>\n",
       "      <th>gender_Female</th>\n",
       "      <td>-0.459760</td>\n",
       "    </tr>\n",
       "    <tr>\n",
       "      <th>OnlineBackup_No</th>\n",
       "      <td>0.176466</td>\n",
       "    </tr>\n",
       "    <tr>\n",
       "      <th>Contract_Two year</th>\n",
       "      <td>-0.688348</td>\n",
       "    </tr>\n",
       "    <tr>\n",
       "      <th>PaperlessBilling_Yes</th>\n",
       "      <td>0.275016</td>\n",
       "    </tr>\n",
       "  </tbody>\n",
       "</table>\n",
       "</div>"
      ],
      "text/plain": [
       "                                       0\n",
       "TotalCharges                    0.000427\n",
       "MonthlyCharges                 -0.004927\n",
       "tenure                         -0.067540\n",
       "Contract_Month-to-month         0.169763\n",
       "OnlineSecurity_No               0.518808\n",
       "TechSupport_No                  0.585993\n",
       "PaymentMethod_Electronic check  0.524136\n",
       "InternetService_Fiber optic     0.848160\n",
       "SeniorCitizen                   0.423980\n",
       "gender_Male                    -0.573848\n",
       "DeviceProtection_No             0.031789\n",
       "gender_Female                  -0.459760\n",
       "OnlineBackup_No                 0.176466\n",
       "Contract_Two year              -0.688348\n",
       "PaperlessBilling_Yes            0.275016"
      ]
     },
     "execution_count": 57,
     "metadata": {},
     "output_type": "execute_result"
    }
   ],
   "source": [
    "x"
   ]
  },
  {
   "cell_type": "code",
   "execution_count": 58,
   "metadata": {},
   "outputs": [
    {
     "data": {
      "text/plain": [
       "Index(['TotalCharges', 'MonthlyCharges', 'tenure', 'Contract_Month-to-month',\n",
       "       'OnlineSecurity_No', 'TechSupport_No', 'PaymentMethod_Electronic check',\n",
       "       'InternetService_Fiber optic', 'SeniorCitizen', 'gender_Male',\n",
       "       'DeviceProtection_No', 'gender_Female', 'OnlineBackup_No',\n",
       "       'Contract_Two year', 'PaperlessBilling_Yes'],\n",
       "      dtype='object')"
      ]
     },
     "execution_count": 58,
     "metadata": {},
     "output_type": "execute_result"
    }
   ],
   "source": [
    "X_train.columns"
   ]
  },
  {
   "cell_type": "code",
   "execution_count": 59,
   "metadata": {},
   "outputs": [
    {
     "data": {
      "text/plain": [
       "array([-1.0387001])"
      ]
     },
     "execution_count": 59,
     "metadata": {},
     "output_type": "execute_result"
    }
   ],
   "source": [
    "Model.intercept_"
   ]
  },
  {
   "cell_type": "code",
   "execution_count": 60,
   "metadata": {},
   "outputs": [],
   "source": [
    "Y_preds=Model.predict(X_test)"
   ]
  },
  {
   "cell_type": "code",
   "execution_count": 61,
   "metadata": {},
   "outputs": [],
   "source": [
    "import sklearn.metrics as metrics\n",
    "import matplotlib.pyplot as plt\n",
    "%matplotlib inline"
   ]
  },
  {
   "cell_type": "code",
   "execution_count": 62,
   "metadata": {},
   "outputs": [
    {
     "data": {
      "text/plain": [
       "(array([0.00000000e+00, 0.00000000e+00, 0.00000000e+00, 0.00000000e+00,\n",
       "        4.80076812e-04, 4.80076812e-04, 9.60153625e-04, 9.60153625e-04,\n",
       "        9.60153625e-04, 1.92030725e-03, 1.92030725e-03, 2.40038406e-03,\n",
       "        2.40038406e-03, 3.36053769e-03, 3.36053769e-03, 3.84061450e-03,\n",
       "        3.84061450e-03, 4.32069131e-03, 4.32069131e-03, 4.80076812e-03,\n",
       "        4.80076812e-03, 5.28084494e-03, 5.28084494e-03, 5.76092175e-03,\n",
       "        5.76092175e-03, 6.24099856e-03, 6.24099856e-03, 7.20115218e-03,\n",
       "        7.20115218e-03, 7.68122900e-03, 7.68122900e-03, 8.64138262e-03,\n",
       "        8.64138262e-03, 9.12145943e-03, 9.12145943e-03, 9.60153625e-03,\n",
       "        9.60153625e-03, 1.00816131e-02, 1.00816131e-02, 1.05616899e-02,\n",
       "        1.05616899e-02, 1.10417667e-02, 1.10417667e-02, 1.15218435e-02,\n",
       "        1.15218435e-02, 1.20019203e-02, 1.20019203e-02, 1.24819971e-02,\n",
       "        1.24819971e-02, 1.29620739e-02, 1.29620739e-02, 1.34421507e-02,\n",
       "        1.34421507e-02, 1.39222276e-02, 1.39222276e-02, 1.44023044e-02,\n",
       "        1.44023044e-02, 1.48823812e-02, 1.48823812e-02, 1.53624580e-02,\n",
       "        1.53624580e-02, 1.58425348e-02, 1.58425348e-02, 1.63226116e-02,\n",
       "        1.63226116e-02, 1.68026884e-02, 1.68026884e-02, 1.72827652e-02,\n",
       "        1.72827652e-02, 1.82429189e-02, 1.82429189e-02, 1.87229957e-02,\n",
       "        1.87229957e-02, 1.92030725e-02, 1.92030725e-02, 1.96831493e-02,\n",
       "        1.96831493e-02, 2.06433029e-02, 2.06433029e-02, 2.11233797e-02,\n",
       "        2.11233797e-02, 2.16034566e-02, 2.16034566e-02, 2.20835334e-02,\n",
       "        2.20835334e-02, 2.40038406e-02, 2.40038406e-02, 2.44839174e-02,\n",
       "        2.44839174e-02, 2.49639942e-02, 2.49639942e-02, 2.54440711e-02,\n",
       "        2.54440711e-02, 2.59241479e-02, 2.59241479e-02, 2.64042247e-02,\n",
       "        2.64042247e-02, 2.68843015e-02, 2.68843015e-02, 2.73643783e-02,\n",
       "        2.73643783e-02, 2.83245319e-02, 2.83245319e-02, 2.88046087e-02,\n",
       "        2.88046087e-02, 2.92846855e-02, 2.92846855e-02, 3.12049928e-02,\n",
       "        3.12049928e-02, 3.16850696e-02, 3.16850696e-02, 3.26452232e-02,\n",
       "        3.26452232e-02, 3.31253000e-02, 3.31253000e-02, 3.36053769e-02,\n",
       "        3.36053769e-02, 3.40854537e-02, 3.40854537e-02, 3.45655305e-02,\n",
       "        3.45655305e-02, 3.50456073e-02, 3.50456073e-02, 3.60057609e-02,\n",
       "        3.60057609e-02, 3.79260682e-02, 3.79260682e-02, 3.84061450e-02,\n",
       "        3.84061450e-02, 3.88862218e-02, 3.88862218e-02, 3.93662986e-02,\n",
       "        3.93662986e-02, 3.98463754e-02, 3.98463754e-02, 4.03264522e-02,\n",
       "        4.03264522e-02, 4.08065290e-02, 4.08065290e-02, 4.12866059e-02,\n",
       "        4.12866059e-02, 4.27268363e-02, 4.27268363e-02, 4.32069131e-02,\n",
       "        4.32069131e-02, 4.36869899e-02, 4.36869899e-02, 4.41670667e-02,\n",
       "        4.41670667e-02, 4.51272204e-02, 4.51272204e-02, 4.70475276e-02,\n",
       "        4.70475276e-02, 4.75276044e-02, 4.75276044e-02, 4.80076812e-02,\n",
       "        4.80076812e-02, 4.89678349e-02, 4.89678349e-02, 4.94479117e-02,\n",
       "        4.94479117e-02, 4.99279885e-02, 4.99279885e-02, 5.04080653e-02,\n",
       "        5.04080653e-02, 5.13682189e-02, 5.13682189e-02, 5.23283725e-02,\n",
       "        5.23283725e-02, 5.37686030e-02, 5.37686030e-02, 5.56889102e-02,\n",
       "        5.56889102e-02, 5.71291407e-02, 5.71291407e-02, 5.85693711e-02,\n",
       "        5.85693711e-02, 5.90494479e-02, 5.90494479e-02, 5.95295247e-02,\n",
       "        5.95295247e-02, 6.00096015e-02, 6.00096015e-02, 6.04896783e-02,\n",
       "        6.04896783e-02, 6.09697552e-02, 6.09697552e-02, 6.14498320e-02,\n",
       "        6.14498320e-02, 6.19299088e-02, 6.19299088e-02, 6.24099856e-02,\n",
       "        6.24099856e-02, 6.33701392e-02, 6.33701392e-02, 6.43302928e-02,\n",
       "        6.43302928e-02, 6.48103697e-02, 6.48103697e-02, 6.62506001e-02,\n",
       "        6.62506001e-02, 6.67306769e-02, 6.67306769e-02, 6.72107537e-02,\n",
       "        6.72107537e-02, 6.91310610e-02, 6.91310610e-02, 7.00912146e-02,\n",
       "        7.00912146e-02, 7.10513682e-02, 7.10513682e-02, 7.15314450e-02,\n",
       "        7.15314450e-02, 7.20115218e-02, 7.20115218e-02, 7.29716755e-02,\n",
       "        7.29716755e-02, 7.39318291e-02, 7.39318291e-02, 7.48919827e-02,\n",
       "        7.48919827e-02, 7.53720595e-02, 7.53720595e-02, 7.68122900e-02,\n",
       "        7.68122900e-02, 7.72923668e-02, 7.72923668e-02, 7.77724436e-02,\n",
       "        7.77724436e-02, 7.82525204e-02, 7.82525204e-02, 7.96927508e-02,\n",
       "        7.96927508e-02, 8.01728277e-02, 8.01728277e-02, 8.06529045e-02,\n",
       "        8.06529045e-02, 8.11329813e-02, 8.11329813e-02, 8.20931349e-02,\n",
       "        8.20931349e-02, 8.25732117e-02, 8.25732117e-02, 8.44935190e-02,\n",
       "        8.44935190e-02, 8.54536726e-02, 8.54536726e-02, 8.59337494e-02,\n",
       "        8.59337494e-02, 8.64138262e-02, 8.64138262e-02, 8.78540566e-02,\n",
       "        8.78540566e-02, 8.88142103e-02, 8.88142103e-02, 9.02544407e-02,\n",
       "        9.02544407e-02, 9.07345175e-02, 9.07345175e-02, 9.21747480e-02,\n",
       "        9.21747480e-02, 9.26548248e-02, 9.26548248e-02, 9.45751320e-02,\n",
       "        9.45751320e-02, 9.55352856e-02, 9.55352856e-02, 9.60153625e-02,\n",
       "        9.60153625e-02, 9.64954393e-02, 9.64954393e-02, 9.69755161e-02,\n",
       "        9.69755161e-02, 9.88958233e-02, 9.88958233e-02, 9.93759001e-02,\n",
       "        9.93759001e-02, 9.98559770e-02, 9.98559770e-02, 1.00336054e-01,\n",
       "        1.00336054e-01, 1.00816131e-01, 1.00816131e-01, 1.01296207e-01,\n",
       "        1.01296207e-01, 1.01776284e-01, 1.01776284e-01, 1.02736438e-01,\n",
       "        1.02736438e-01, 1.03216515e-01, 1.03216515e-01, 1.03696591e-01,\n",
       "        1.03696591e-01, 1.05136822e-01, 1.05136822e-01, 1.05616899e-01,\n",
       "        1.05616899e-01, 1.08497360e-01, 1.08497360e-01, 1.08977436e-01,\n",
       "        1.08977436e-01, 1.09457513e-01, 1.09457513e-01, 1.10417667e-01,\n",
       "        1.10417667e-01, 1.10897744e-01, 1.10897744e-01, 1.11857897e-01,\n",
       "        1.11857897e-01, 1.13778205e-01, 1.13778205e-01, 1.16658665e-01,\n",
       "        1.16658665e-01, 1.17138742e-01, 1.17138742e-01, 1.17618819e-01,\n",
       "        1.17618819e-01, 1.18098896e-01, 1.18098896e-01, 1.18578973e-01,\n",
       "        1.18578973e-01, 1.19539126e-01, 1.19539126e-01, 1.20499280e-01,\n",
       "        1.20499280e-01, 1.22419587e-01, 1.22419587e-01, 1.22899664e-01,\n",
       "        1.22899664e-01, 1.23859818e-01, 1.23859818e-01, 1.24819971e-01,\n",
       "        1.24819971e-01, 1.25300048e-01, 1.25300048e-01, 1.27220355e-01,\n",
       "        1.27220355e-01, 1.27700432e-01, 1.27700432e-01, 1.29140663e-01,\n",
       "        1.29140663e-01, 1.29620739e-01, 1.29620739e-01, 1.30100816e-01,\n",
       "        1.30100816e-01, 1.31060970e-01, 1.31060970e-01, 1.31541047e-01,\n",
       "        1.31541047e-01, 1.33461354e-01, 1.33461354e-01, 1.35861738e-01,\n",
       "        1.35861738e-01, 1.36341815e-01, 1.36341815e-01, 1.36821892e-01,\n",
       "        1.36821892e-01, 1.37782045e-01, 1.37782045e-01, 1.39222276e-01,\n",
       "        1.39222276e-01, 1.43062890e-01, 1.43062890e-01, 1.44023044e-01,\n",
       "        1.44023044e-01, 1.44503120e-01, 1.44503120e-01, 1.44983197e-01,\n",
       "        1.44983197e-01, 1.46903505e-01, 1.46903505e-01, 1.47863658e-01,\n",
       "        1.47863658e-01, 1.49783965e-01, 1.49783965e-01, 1.52184349e-01,\n",
       "        1.52184349e-01, 1.53624580e-01, 1.53624580e-01, 1.54584734e-01,\n",
       "        1.54584734e-01, 1.55544887e-01, 1.55544887e-01, 1.56024964e-01,\n",
       "        1.56024964e-01, 1.57945271e-01, 1.57945271e-01, 1.58905425e-01,\n",
       "        1.58905425e-01, 1.59865578e-01, 1.59865578e-01, 1.60345655e-01,\n",
       "        1.60345655e-01, 1.63226116e-01, 1.63226116e-01, 1.65146423e-01,\n",
       "        1.65146423e-01, 1.66106577e-01, 1.66106577e-01, 1.66586654e-01,\n",
       "        1.66586654e-01, 1.67066731e-01, 1.67066731e-01, 1.68987038e-01,\n",
       "        1.68987038e-01, 1.70427268e-01, 1.70427268e-01, 1.71867499e-01,\n",
       "        1.71867499e-01, 1.72827652e-01, 1.72827652e-01, 1.74267883e-01,\n",
       "        1.74267883e-01, 1.74747960e-01, 1.74747960e-01, 1.78108497e-01,\n",
       "        1.78108497e-01, 1.79068651e-01, 1.79068651e-01, 1.79548728e-01,\n",
       "        1.79548728e-01, 1.81949112e-01, 1.81949112e-01, 1.82909265e-01,\n",
       "        1.82909265e-01, 1.83869419e-01, 1.83869419e-01, 1.84349496e-01,\n",
       "        1.84349496e-01, 1.84829573e-01, 1.84829573e-01, 1.87710034e-01,\n",
       "        1.87710034e-01, 1.90110418e-01, 1.90110418e-01, 1.91550648e-01,\n",
       "        1.91550648e-01, 1.92510802e-01, 1.92510802e-01, 1.95391263e-01,\n",
       "        1.95391263e-01, 2.00192031e-01, 2.00192031e-01, 2.03552568e-01,\n",
       "        2.03552568e-01, 2.04032645e-01, 2.04032645e-01, 2.05952952e-01,\n",
       "        2.05952952e-01, 2.06913106e-01, 2.06913106e-01, 2.07393183e-01,\n",
       "        2.07393183e-01, 2.07873260e-01, 2.07873260e-01, 2.08353337e-01,\n",
       "        2.08353337e-01, 2.09313490e-01, 2.09313490e-01, 2.14594335e-01,\n",
       "        2.14594335e-01, 2.16514642e-01, 2.16514642e-01, 2.18915026e-01,\n",
       "        2.18915026e-01, 2.20835334e-01, 2.20835334e-01, 2.25156025e-01,\n",
       "        2.25156025e-01, 2.26116179e-01, 2.26116179e-01, 2.26596255e-01,\n",
       "        2.26596255e-01, 2.28516563e-01, 2.28516563e-01, 2.31877100e-01,\n",
       "        2.31877100e-01, 2.34277484e-01, 2.34277484e-01, 2.36197792e-01,\n",
       "        2.36197792e-01, 2.37157945e-01, 2.37157945e-01, 2.38598176e-01,\n",
       "        2.38598176e-01, 2.45319251e-01, 2.45319251e-01, 2.47239558e-01,\n",
       "        2.47239558e-01, 2.47719635e-01, 2.47719635e-01, 2.48199712e-01,\n",
       "        2.48199712e-01, 2.51560250e-01, 2.51560250e-01, 2.52520403e-01,\n",
       "        2.52520403e-01, 2.53000480e-01, 2.53000480e-01, 2.53480557e-01,\n",
       "        2.53480557e-01, 2.55880941e-01, 2.55880941e-01, 2.62121940e-01,\n",
       "        2.62121940e-01, 2.68843015e-01, 2.68843015e-01, 2.69323092e-01,\n",
       "        2.69323092e-01, 2.71723476e-01, 2.71723476e-01, 2.76044167e-01,\n",
       "        2.76044167e-01, 2.81805089e-01, 2.81805089e-01, 2.84205473e-01,\n",
       "        2.84205473e-01, 2.85645703e-01, 2.85645703e-01, 2.86125780e-01,\n",
       "        2.86125780e-01, 2.89006241e-01, 2.89006241e-01, 2.89966395e-01,\n",
       "        2.89966395e-01, 2.90926548e-01, 2.90926548e-01, 2.92366779e-01,\n",
       "        2.92366779e-01, 2.94287086e-01, 2.94287086e-01, 2.96207393e-01,\n",
       "        2.96207393e-01, 2.96207393e-01, 2.96207393e-01, 2.97647624e-01,\n",
       "        2.97647624e-01, 3.01968315e-01, 3.01968315e-01, 3.05328853e-01,\n",
       "        3.05328853e-01, 3.07249160e-01, 3.07249160e-01, 3.10129621e-01,\n",
       "        3.10129621e-01, 3.14450312e-01, 3.14450312e-01, 3.16370619e-01,\n",
       "        3.16370619e-01, 3.17330773e-01, 3.17330773e-01, 3.18771003e-01,\n",
       "        3.18771003e-01, 3.23571771e-01, 3.23571771e-01, 3.24051848e-01,\n",
       "        3.24051848e-01, 3.25012002e-01, 3.25012002e-01, 3.26932309e-01,\n",
       "        3.26932309e-01, 3.29332693e-01, 3.29332693e-01, 3.33653385e-01,\n",
       "        3.33653385e-01, 3.39414306e-01, 3.39414306e-01, 3.40374460e-01,\n",
       "        3.40374460e-01, 3.41814690e-01, 3.41814690e-01, 3.44695151e-01,\n",
       "        3.44695151e-01, 3.46615458e-01, 3.46615458e-01, 3.48055689e-01,\n",
       "        3.48535766e-01, 3.49495919e-01, 3.51896303e-01, 3.51896303e-01,\n",
       "        3.57657225e-01, 3.57657225e-01, 3.58137302e-01, 3.58137302e-01,\n",
       "        3.66778685e-01, 3.66778685e-01, 3.67258761e-01, 3.67258761e-01,\n",
       "        3.68698992e-01, 3.68698992e-01, 3.73019683e-01, 3.73019683e-01,\n",
       "        3.73499760e-01, 3.73499760e-01, 3.75420067e-01, 3.75420067e-01,\n",
       "        3.76380221e-01, 3.76380221e-01, 3.77340374e-01, 3.77340374e-01,\n",
       "        3.78780605e-01, 3.78780605e-01, 3.79260682e-01, 3.79260682e-01,\n",
       "        3.80220835e-01, 3.81180989e-01, 3.81180989e-01, 3.84541527e-01,\n",
       "        3.84541527e-01, 3.85021603e-01, 3.85021603e-01, 3.87421988e-01,\n",
       "        3.87421988e-01, 3.89822372e-01, 3.89822372e-01, 3.90782525e-01,\n",
       "        3.90782525e-01, 3.99423908e-01, 3.99423908e-01, 4.02304369e-01,\n",
       "        4.02304369e-01, 4.03264522e-01, 4.03264522e-01, 4.04224676e-01,\n",
       "        4.04224676e-01, 4.04704753e-01, 4.04704753e-01, 4.05664906e-01,\n",
       "        4.05664906e-01, 4.15266443e-01, 4.15266443e-01, 4.16226596e-01,\n",
       "        4.16226596e-01, 4.21507441e-01, 4.21507441e-01, 4.29188670e-01,\n",
       "        4.29188670e-01, 4.32069131e-01, 4.32069131e-01, 4.34949592e-01,\n",
       "        4.34949592e-01, 4.35429669e-01, 4.35429669e-01, 4.35909746e-01,\n",
       "        4.35909746e-01, 4.38310130e-01, 4.38310130e-01, 4.50792127e-01,\n",
       "        4.50792127e-01, 4.52712434e-01, 4.52712434e-01, 4.60873740e-01,\n",
       "        4.60873740e-01, 4.67114738e-01, 4.67114738e-01, 4.67594815e-01,\n",
       "        4.67594815e-01, 4.69995199e-01, 4.69995199e-01, 4.70955353e-01,\n",
       "        4.70955353e-01, 4.71915506e-01, 4.71915506e-01, 4.75756121e-01,\n",
       "        4.75756121e-01, 4.81036966e-01, 4.81036966e-01, 4.83917427e-01,\n",
       "        4.83917427e-01, 4.86317811e-01, 4.86317811e-01, 4.96399424e-01,\n",
       "        4.96399424e-01, 5.00720115e-01, 5.00720115e-01, 5.03120499e-01,\n",
       "        5.03120499e-01, 5.10801728e-01, 5.10801728e-01, 5.13202112e-01,\n",
       "        5.13202112e-01, 5.19923188e-01, 5.19923188e-01, 5.22323572e-01,\n",
       "        5.22323572e-01, 5.24723956e-01, 5.24723956e-01, 5.39126260e-01,\n",
       "        5.39126260e-01, 5.41046567e-01, 5.41046567e-01, 5.42966875e-01,\n",
       "        5.42966875e-01, 5.53528565e-01, 5.53528565e-01, 5.65530485e-01,\n",
       "        5.65530485e-01, 5.67930869e-01, 5.67930869e-01, 5.71771483e-01,\n",
       "        5.71771483e-01, 5.73691791e-01, 5.73691791e-01, 5.74651944e-01,\n",
       "        5.74651944e-01, 5.78972636e-01, 5.78972636e-01, 5.89054249e-01,\n",
       "        5.89054249e-01, 5.93374940e-01, 5.93374940e-01, 5.98655785e-01,\n",
       "        5.98655785e-01, 6.02976476e-01, 6.02976476e-01, 6.05856937e-01,\n",
       "        6.05856937e-01, 6.12578012e-01, 6.12578012e-01, 6.14018243e-01,\n",
       "        6.14018243e-01, 6.16898704e-01, 6.16898704e-01, 6.22179549e-01,\n",
       "        6.22179549e-01, 6.27460394e-01, 6.27460394e-01, 6.30820931e-01,\n",
       "        6.30820931e-01, 6.37542007e-01, 6.37542007e-01, 6.41382621e-01,\n",
       "        6.41382621e-01, 6.51944311e-01, 6.51944311e-01, 6.52904465e-01,\n",
       "        6.52904465e-01, 6.58665386e-01, 6.58665386e-01, 6.67306769e-01,\n",
       "        6.67306769e-01, 6.68747000e-01, 6.68747000e-01, 6.79788766e-01,\n",
       "        6.79788766e-01, 6.80748920e-01, 6.80748920e-01, 6.85069611e-01,\n",
       "        6.85069611e-01, 6.88910226e-01, 6.88910226e-01, 6.89390302e-01,\n",
       "        6.89390302e-01, 7.11473836e-01, 7.11473836e-01, 7.43638982e-01,\n",
       "        7.43638982e-01, 7.64762362e-01, 7.64762362e-01, 7.73403745e-01,\n",
       "        7.73403745e-01, 8.55496880e-01, 8.55496880e-01, 8.74219875e-01,\n",
       "        8.74219875e-01, 8.97263562e-01, 8.97263562e-01, 9.05424868e-01,\n",
       "        9.05424868e-01, 9.29908785e-01, 9.29908785e-01, 9.40950552e-01,\n",
       "        9.40950552e-01, 9.57273164e-01, 9.57273164e-01, 1.00000000e+00]),\n",
       " array([0.        , 0.00136054, 0.00408163, 0.00544218, 0.00544218,\n",
       "        0.01496599, 0.01496599, 0.01768707, 0.02176871, 0.02176871,\n",
       "        0.02312925, 0.02312925, 0.02585034, 0.02585034, 0.02993197,\n",
       "        0.02993197, 0.03129252, 0.03129252, 0.04081633, 0.04081633,\n",
       "        0.04489796, 0.04489796, 0.04761905, 0.04761905, 0.0585034 ,\n",
       "        0.0585034 , 0.06938776, 0.06938776, 0.07482993, 0.07482993,\n",
       "        0.07619048, 0.07619048, 0.08163265, 0.08163265, 0.08571429,\n",
       "        0.08571429, 0.08707483, 0.08707483, 0.08979592, 0.08979592,\n",
       "        0.09115646, 0.09115646, 0.09659864, 0.09659864, 0.10068027,\n",
       "        0.10068027, 0.10204082, 0.10204082, 0.10340136, 0.10340136,\n",
       "        0.1170068 , 0.1170068 , 0.12380952, 0.12380952, 0.13741497,\n",
       "        0.13741497, 0.14285714, 0.14285714, 0.14557823, 0.14557823,\n",
       "        0.14965986, 0.14965986, 0.15238095, 0.15238095, 0.1537415 ,\n",
       "        0.1537415 , 0.16054422, 0.16054422, 0.1755102 , 0.1755102 ,\n",
       "        0.18095238, 0.18095238, 0.18231293, 0.18231293, 0.18503401,\n",
       "        0.18503401, 0.18639456, 0.18639456, 0.18911565, 0.18911565,\n",
       "        0.19319728, 0.19319728, 0.19455782, 0.19455782, 0.20544218,\n",
       "        0.20544218, 0.20680272, 0.20680272, 0.20816327, 0.20816327,\n",
       "        0.2122449 , 0.2122449 , 0.21904762, 0.21904762, 0.22312925,\n",
       "        0.22312925, 0.22857143, 0.22857143, 0.23401361, 0.23401361,\n",
       "        0.24489796, 0.24489796, 0.25034014, 0.25034014, 0.2585034 ,\n",
       "        0.2585034 , 0.25986395, 0.25986395, 0.26938776, 0.26938776,\n",
       "        0.28435374, 0.28435374, 0.29115646, 0.29115646, 0.29251701,\n",
       "        0.29251701, 0.29387755, 0.29387755, 0.29931973, 0.29931973,\n",
       "        0.30204082, 0.30204082, 0.3047619 , 0.3047619 , 0.30748299,\n",
       "        0.30748299, 0.31428571, 0.31428571, 0.31564626, 0.31564626,\n",
       "        0.3170068 , 0.3170068 , 0.31836735, 0.31836735, 0.31972789,\n",
       "        0.31972789, 0.32108844, 0.32108844, 0.32244898, 0.32244898,\n",
       "        0.32380952, 0.32380952, 0.32789116, 0.32789116, 0.33197279,\n",
       "        0.33197279, 0.33333333, 0.33333333, 0.33605442, 0.33605442,\n",
       "        0.34013605, 0.34013605, 0.3414966 , 0.3414966 , 0.34285714,\n",
       "        0.34285714, 0.34829932, 0.34829932, 0.35238095, 0.35238095,\n",
       "        0.35646259, 0.35782313, 0.36054422, 0.36054422, 0.36462585,\n",
       "        0.36462585, 0.36870748, 0.36870748, 0.37006803, 0.37006803,\n",
       "        0.3755102 , 0.3755102 , 0.38503401, 0.38503401, 0.3877551 ,\n",
       "        0.3877551 , 0.38911565, 0.38911565, 0.39183673, 0.39183673,\n",
       "        0.39455782, 0.39455782, 0.39591837, 0.39591837, 0.39727891,\n",
       "        0.39727891, 0.39863946, 0.39863946, 0.40408163, 0.40408163,\n",
       "        0.40544218, 0.40544218, 0.41088435, 0.41088435, 0.41632653,\n",
       "        0.41632653, 0.41904762, 0.41904762, 0.42040816, 0.42040816,\n",
       "        0.42176871, 0.42176871, 0.4244898 , 0.4244898 , 0.42585034,\n",
       "        0.42585034, 0.42721088, 0.42721088, 0.43129252, 0.43129252,\n",
       "        0.43673469, 0.43673469, 0.44081633, 0.44081633, 0.44761905,\n",
       "        0.44761905, 0.45578231, 0.45578231, 0.45986395, 0.45986395,\n",
       "        0.46258503, 0.46258503, 0.46394558, 0.46394558, 0.46530612,\n",
       "        0.46530612, 0.46802721, 0.46802721, 0.46938776, 0.46938776,\n",
       "        0.4707483 , 0.4707483 , 0.47210884, 0.47210884, 0.47619048,\n",
       "        0.47619048, 0.47755102, 0.47755102, 0.48027211, 0.48027211,\n",
       "        0.48163265, 0.48163265, 0.48979592, 0.48979592, 0.49795918,\n",
       "        0.49795918, 0.49931973, 0.49931973, 0.50340136, 0.50340136,\n",
       "        0.5047619 , 0.5047619 , 0.50748299, 0.50748299, 0.50884354,\n",
       "        0.50884354, 0.51020408, 0.51020408, 0.51428571, 0.51428571,\n",
       "        0.51564626, 0.51564626, 0.5170068 , 0.5170068 , 0.52244898,\n",
       "        0.52244898, 0.52517007, 0.52517007, 0.52789116, 0.52789116,\n",
       "        0.5292517 , 0.5292517 , 0.53061224, 0.53061224, 0.53605442,\n",
       "        0.53605442, 0.53741497, 0.53741497, 0.53877551, 0.53877551,\n",
       "        0.54013605, 0.54013605, 0.5414966 , 0.5414966 , 0.54285714,\n",
       "        0.54285714, 0.54421769, 0.54421769, 0.54829932, 0.54829932,\n",
       "        0.55102041, 0.55102041, 0.55238095, 0.55238095, 0.5537415 ,\n",
       "        0.5537415 , 0.55510204, 0.55510204, 0.55782313, 0.55782313,\n",
       "        0.55918367, 0.55918367, 0.56326531, 0.56326531, 0.56462585,\n",
       "        0.56462585, 0.56598639, 0.56598639, 0.56870748, 0.56870748,\n",
       "        0.57006803, 0.57006803, 0.57959184, 0.57959184, 0.58095238,\n",
       "        0.58095238, 0.58231293, 0.58231293, 0.58367347, 0.58367347,\n",
       "        0.58503401, 0.58503401, 0.58639456, 0.58639456, 0.5877551 ,\n",
       "        0.5877551 , 0.58911565, 0.58911565, 0.59047619, 0.59047619,\n",
       "        0.59591837, 0.59591837, 0.60136054, 0.60136054, 0.60408163,\n",
       "        0.60408163, 0.60680272, 0.60680272, 0.60816327, 0.60816327,\n",
       "        0.60952381, 0.60952381, 0.6122449 , 0.6122449 , 0.61632653,\n",
       "        0.61632653, 0.61768707, 0.61768707, 0.61904762, 0.61904762,\n",
       "        0.62040816, 0.62040816, 0.62312925, 0.62312925, 0.62585034,\n",
       "        0.62585034, 0.62857143, 0.62857143, 0.62993197, 0.62993197,\n",
       "        0.63401361, 0.63401361, 0.63537415, 0.63537415, 0.63673469,\n",
       "        0.63673469, 0.64217687, 0.64217687, 0.6462585 , 0.6462585 ,\n",
       "        0.64897959, 0.64897959, 0.65170068, 0.65170068, 0.65306122,\n",
       "        0.65306122, 0.65442177, 0.65442177, 0.65578231, 0.65578231,\n",
       "        0.65714286, 0.65714286, 0.6585034 , 0.6585034 , 0.66258503,\n",
       "        0.66258503, 0.66394558, 0.66394558, 0.66530612, 0.66530612,\n",
       "        0.67346939, 0.67346939, 0.67755102, 0.67755102, 0.67891156,\n",
       "        0.67891156, 0.68027211, 0.68027211, 0.68163265, 0.68163265,\n",
       "        0.6829932 , 0.6829932 , 0.68435374, 0.68435374, 0.68571429,\n",
       "        0.68571429, 0.68707483, 0.68707483, 0.68843537, 0.68843537,\n",
       "        0.68979592, 0.68979592, 0.69115646, 0.69115646, 0.69251701,\n",
       "        0.69251701, 0.69659864, 0.69659864, 0.69795918, 0.69795918,\n",
       "        0.69931973, 0.69931973, 0.70612245, 0.70612245, 0.70748299,\n",
       "        0.70748299, 0.70884354, 0.70884354, 0.71156463, 0.71156463,\n",
       "        0.71428571, 0.71428571, 0.71564626, 0.71564626, 0.7170068 ,\n",
       "        0.7170068 , 0.71836735, 0.71836735, 0.72244898, 0.72244898,\n",
       "        0.72380952, 0.72380952, 0.72653061, 0.72653061, 0.72789116,\n",
       "        0.72789116, 0.73333333, 0.73333333, 0.73605442, 0.73605442,\n",
       "        0.73741497, 0.73741497, 0.73877551, 0.73877551, 0.74013605,\n",
       "        0.74013605, 0.74285714, 0.74285714, 0.74557823, 0.74557823,\n",
       "        0.74965986, 0.74965986, 0.75102041, 0.75102041, 0.7537415 ,\n",
       "        0.7537415 , 0.75510204, 0.75510204, 0.75646259, 0.75646259,\n",
       "        0.75782313, 0.75782313, 0.75918367, 0.75918367, 0.76054422,\n",
       "        0.76054422, 0.76326531, 0.76326531, 0.76462585, 0.76462585,\n",
       "        0.76734694, 0.76734694, 0.77006803, 0.77006803, 0.77142857,\n",
       "        0.77142857, 0.77278912, 0.77278912, 0.7755102 , 0.7755102 ,\n",
       "        0.77959184, 0.77959184, 0.78231293, 0.78231293, 0.78367347,\n",
       "        0.78367347, 0.78503401, 0.78503401, 0.78639456, 0.78639456,\n",
       "        0.78911565, 0.78911565, 0.79047619, 0.79047619, 0.79319728,\n",
       "        0.79319728, 0.79455782, 0.79455782, 0.79591837, 0.79591837,\n",
       "        0.79863946, 0.79863946, 0.80136054, 0.80136054, 0.80272109,\n",
       "        0.80272109, 0.80408163, 0.80408163, 0.80544218, 0.80544218,\n",
       "        0.80680272, 0.80680272, 0.80816327, 0.80816327, 0.81360544,\n",
       "        0.81360544, 0.81496599, 0.81496599, 0.81904762, 0.81904762,\n",
       "        0.82040816, 0.82040816, 0.82176871, 0.8244898 , 0.82721088,\n",
       "        0.82721088, 0.82857143, 0.82857143, 0.82993197, 0.82993197,\n",
       "        0.83129252, 0.83129252, 0.83265306, 0.83265306, 0.83673469,\n",
       "        0.83673469, 0.83809524, 0.83809524, 0.84081633, 0.84081633,\n",
       "        0.84217687, 0.84217687, 0.84353741, 0.84353741, 0.8462585 ,\n",
       "        0.8462585 , 0.84761905, 0.84761905, 0.84897959, 0.84897959,\n",
       "        0.85034014, 0.85034014, 0.85170068, 0.85170068, 0.85306122,\n",
       "        0.85306122, 0.85442177, 0.85442177, 0.85578231, 0.85578231,\n",
       "        0.85714286, 0.85714286, 0.8585034 , 0.8585034 , 0.85986395,\n",
       "        0.85986395, 0.85986395, 0.85986395, 0.85986395, 0.86122449,\n",
       "        0.86122449, 0.86258503, 0.86258503, 0.86394558, 0.86394558,\n",
       "        0.86530612, 0.86530612, 0.86666667, 0.86666667, 0.86802721,\n",
       "        0.86802721, 0.86938776, 0.86938776, 0.8707483 , 0.8707483 ,\n",
       "        0.87210884, 0.87210884, 0.87346939, 0.87346939, 0.87482993,\n",
       "        0.87482993, 0.87755102, 0.87755102, 0.87891156, 0.87891156,\n",
       "        0.87891156, 0.88027211, 0.88027211, 0.8829932 , 0.8829932 ,\n",
       "        0.88435374, 0.88435374, 0.88571429, 0.88571429, 0.88843537,\n",
       "        0.88843537, 0.88979592, 0.88979592, 0.89115646, 0.89115646,\n",
       "        0.89251701, 0.89251701, 0.89387755, 0.89387755, 0.8952381 ,\n",
       "        0.8952381 , 0.89659864, 0.89659864, 0.89795918, 0.89795918,\n",
       "        0.90068027, 0.90068027, 0.90204082, 0.90204082, 0.90340136,\n",
       "        0.90340136, 0.9047619 , 0.9047619 , 0.90612245, 0.90612245,\n",
       "        0.90748299, 0.90748299, 0.90884354, 0.90884354, 0.91020408,\n",
       "        0.91020408, 0.91156463, 0.91156463, 0.91292517, 0.91292517,\n",
       "        0.91428571, 0.91428571, 0.91564626, 0.91564626, 0.9170068 ,\n",
       "        0.9170068 , 0.91836735, 0.91836735, 0.91972789, 0.91972789,\n",
       "        0.92108844, 0.92108844, 0.92244898, 0.92244898, 0.92380952,\n",
       "        0.92380952, 0.92517007, 0.92517007, 0.92653061, 0.92653061,\n",
       "        0.92789116, 0.92789116, 0.9292517 , 0.9292517 , 0.93197279,\n",
       "        0.93197279, 0.93333333, 0.93333333, 0.93469388, 0.93469388,\n",
       "        0.93605442, 0.93605442, 0.93741497, 0.93741497, 0.93877551,\n",
       "        0.93877551, 0.94013605, 0.94013605, 0.9414966 , 0.9414966 ,\n",
       "        0.94285714, 0.94285714, 0.94421769, 0.94421769, 0.94557823,\n",
       "        0.94557823, 0.94693878, 0.94693878, 0.94829932, 0.94829932,\n",
       "        0.94965986, 0.94965986, 0.95102041, 0.95102041, 0.95238095,\n",
       "        0.95238095, 0.9537415 , 0.9537415 , 0.95510204, 0.95510204,\n",
       "        0.95646259, 0.95646259, 0.95782313, 0.95782313, 0.95918367,\n",
       "        0.95918367, 0.96054422, 0.96054422, 0.96190476, 0.96190476,\n",
       "        0.96326531, 0.96326531, 0.96462585, 0.96462585, 0.96598639,\n",
       "        0.96598639, 0.96734694, 0.96734694, 0.96870748, 0.96870748,\n",
       "        0.97006803, 0.97006803, 0.97142857, 0.97142857, 0.97278912,\n",
       "        0.97278912, 0.97414966, 0.97414966, 0.9755102 , 0.9755102 ,\n",
       "        0.97687075, 0.97687075, 0.97823129, 0.97823129, 0.97959184,\n",
       "        0.97959184, 0.98095238, 0.98095238, 0.98231293, 0.98231293,\n",
       "        0.98367347, 0.98367347, 0.98503401, 0.98503401, 0.98639456,\n",
       "        0.98639456, 0.9877551 , 0.9877551 , 0.98911565, 0.98911565,\n",
       "        0.99047619, 0.99047619, 0.99183673, 0.99183673, 0.99319728,\n",
       "        0.99319728, 0.99455782, 0.99455782, 0.99591837, 0.99591837,\n",
       "        0.99727891, 0.99727891, 0.99863946, 0.99863946, 1.        ,\n",
       "        1.        ]),\n",
       " array([1.84225586e+00, 8.42255863e-01, 8.42225964e-01, 8.41896776e-01,\n",
       "        8.41866822e-01, 8.25140449e-01, 8.24101628e-01, 8.23347595e-01,\n",
       "        8.20893041e-01, 8.18591519e-01, 8.15043022e-01, 8.12891327e-01,\n",
       "        8.10461573e-01, 8.09261620e-01, 8.06060520e-01, 8.01516825e-01,\n",
       "        8.00941431e-01, 8.00410851e-01, 7.91265724e-01, 7.89994310e-01,\n",
       "        7.85385016e-01, 7.83943372e-01, 7.83216369e-01, 7.80092752e-01,\n",
       "        7.74506957e-01, 7.73291706e-01, 7.69053597e-01, 7.68755659e-01,\n",
       "        7.67691967e-01, 7.65125964e-01, 7.64092821e-01, 7.62479868e-01,\n",
       "        7.60057852e-01, 7.59592061e-01, 7.57952798e-01, 7.57860878e-01,\n",
       "        7.57709171e-01, 7.57621935e-01, 7.56887587e-01, 7.56846179e-01,\n",
       "        7.56721927e-01, 7.56514295e-01, 7.54179650e-01, 7.53545977e-01,\n",
       "        7.52470336e-01, 7.52358816e-01, 7.51566556e-01, 7.51070683e-01,\n",
       "        7.50578976e-01, 7.50483798e-01, 7.47917584e-01, 7.47493103e-01,\n",
       "        7.44488663e-01, 7.43273488e-01, 7.36964532e-01, 7.36671531e-01,\n",
       "        7.35071157e-01, 7.34458118e-01, 7.34150027e-01, 7.33145300e-01,\n",
       "        7.29953085e-01, 7.29900641e-01, 7.29844509e-01, 7.29706755e-01,\n",
       "        7.29524557e-01, 7.29188341e-01, 7.26077812e-01, 7.25843964e-01,\n",
       "        7.17300229e-01, 7.16771562e-01, 7.15940913e-01, 7.15126310e-01,\n",
       "        7.14824886e-01, 7.14100996e-01, 7.10070237e-01, 7.09356560e-01,\n",
       "        7.08784643e-01, 7.08136740e-01, 7.07240468e-01, 7.07153517e-01,\n",
       "        7.06445709e-01, 7.06191475e-01, 7.06125061e-01, 7.06104383e-01,\n",
       "        7.02284311e-01, 7.00637653e-01, 6.99087781e-01, 6.98532165e-01,\n",
       "        6.98120242e-01, 6.95607543e-01, 6.93817585e-01, 6.93741269e-01,\n",
       "        6.92694242e-01, 6.90635133e-01, 6.88606049e-01, 6.87633046e-01,\n",
       "        6.86236540e-01, 6.85808064e-01, 6.83849593e-01, 6.83731582e-01,\n",
       "        6.77751296e-01, 6.76762617e-01, 6.73551575e-01, 6.73007092e-01,\n",
       "        6.70994292e-01, 6.70902029e-01, 6.70899462e-01, 6.66367748e-01,\n",
       "        6.63074395e-01, 6.63032054e-01, 6.56949547e-01, 6.54490818e-01,\n",
       "        6.53896972e-01, 6.53629533e-01, 6.53530863e-01, 6.51417854e-01,\n",
       "        6.51242625e-01, 6.49646075e-01, 6.47679409e-01, 6.47514031e-01,\n",
       "        6.47257240e-01, 6.47137352e-01, 6.46653439e-01, 6.44217138e-01,\n",
       "        6.43575327e-01, 6.39774557e-01, 6.34807532e-01, 6.34806310e-01,\n",
       "        6.33643455e-01, 6.33387376e-01, 6.32880970e-01, 6.30985366e-01,\n",
       "        6.30810115e-01, 6.30376341e-01, 6.29284952e-01, 6.28159232e-01,\n",
       "        6.27232900e-01, 6.26105511e-01, 6.25299414e-01, 6.25226596e-01,\n",
       "        6.25160277e-01, 6.24178859e-01, 6.23319076e-01, 6.23092824e-01,\n",
       "        6.21991450e-01, 6.21921397e-01, 6.21601967e-01, 6.21440424e-01,\n",
       "        6.20753626e-01, 6.20276746e-01, 6.18318566e-01, 6.15389614e-01,\n",
       "        6.14956138e-01, 6.14757957e-01, 6.14590423e-01, 6.14537121e-01,\n",
       "        6.12662956e-01, 6.11967538e-01, 6.10674692e-01, 6.09888261e-01,\n",
       "        6.09664236e-01, 6.09450020e-01, 6.08817398e-01, 6.07929560e-01,\n",
       "        6.07152124e-01, 6.05112863e-01, 6.02975241e-01, 6.01779396e-01,\n",
       "        6.01694974e-01, 6.00735541e-01, 5.99159499e-01, 5.98272000e-01,\n",
       "        5.95323311e-01, 5.92953438e-01, 5.90396139e-01, 5.88228404e-01,\n",
       "        5.88102090e-01, 5.87730913e-01, 5.87057737e-01, 5.87037698e-01,\n",
       "        5.84959044e-01, 5.84332413e-01, 5.84331638e-01, 5.83964574e-01,\n",
       "        5.83844579e-01, 5.83633456e-01, 5.83458768e-01, 5.83396214e-01,\n",
       "        5.82528786e-01, 5.82364477e-01, 5.81818991e-01, 5.81107091e-01,\n",
       "        5.79948843e-01, 5.79523390e-01, 5.77014554e-01, 5.76459054e-01,\n",
       "        5.75385020e-01, 5.75168579e-01, 5.74960176e-01, 5.74258011e-01,\n",
       "        5.73235941e-01, 5.73112742e-01, 5.72448076e-01, 5.72034093e-01,\n",
       "        5.71718888e-01, 5.67708324e-01, 5.67578900e-01, 5.65856216e-01,\n",
       "        5.64565144e-01, 5.63564916e-01, 5.60759127e-01, 5.60659163e-01,\n",
       "        5.59036406e-01, 5.58527885e-01, 5.56521338e-01, 5.55134990e-01,\n",
       "        5.51291766e-01, 5.50850338e-01, 5.50246761e-01, 5.49188141e-01,\n",
       "        5.47777585e-01, 5.47471628e-01, 5.47347183e-01, 5.46121668e-01,\n",
       "        5.45514083e-01, 5.44520284e-01, 5.44193596e-01, 5.43592008e-01,\n",
       "        5.42338425e-01, 5.42294741e-01, 5.41002196e-01, 5.40525791e-01,\n",
       "        5.39955194e-01, 5.39567630e-01, 5.35997735e-01, 5.35853673e-01,\n",
       "        5.34403379e-01, 5.33282544e-01, 5.32896877e-01, 5.31513593e-01,\n",
       "        5.30711019e-01, 5.28928968e-01, 5.20186588e-01, 5.19652313e-01,\n",
       "        5.17306230e-01, 5.16510839e-01, 5.15370722e-01, 5.14860204e-01,\n",
       "        5.12345572e-01, 5.11733991e-01, 5.10434899e-01, 5.09922390e-01,\n",
       "        5.09213393e-01, 5.08208579e-01, 5.07010768e-01, 5.05766762e-01,\n",
       "        5.04969384e-01, 5.04626874e-01, 5.02719914e-01, 4.98454394e-01,\n",
       "        4.97948107e-01, 4.97835600e-01, 4.96991801e-01, 4.95416383e-01,\n",
       "        4.93783143e-01, 4.93629381e-01, 4.93104188e-01, 4.92896136e-01,\n",
       "        4.91592098e-01, 4.91028383e-01, 4.88338891e-01, 4.88145886e-01,\n",
       "        4.87712199e-01, 4.85823956e-01, 4.83854982e-01, 4.83491388e-01,\n",
       "        4.83351258e-01, 4.83259994e-01, 4.83256551e-01, 4.81756330e-01,\n",
       "        4.81119070e-01, 4.80959914e-01, 4.80769925e-01, 4.80604300e-01,\n",
       "        4.79787952e-01, 4.78260285e-01, 4.76810639e-01, 4.76524755e-01,\n",
       "        4.76080665e-01, 4.75431858e-01, 4.73788573e-01, 4.73588696e-01,\n",
       "        4.73504583e-01, 4.71326430e-01, 4.70995106e-01, 4.70136695e-01,\n",
       "        4.70134534e-01, 4.69045110e-01, 4.68511448e-01, 4.68231300e-01,\n",
       "        4.68063221e-01, 4.67952474e-01, 4.67024505e-01, 4.66843465e-01,\n",
       "        4.65933675e-01, 4.65567760e-01, 4.65419401e-01, 4.64784336e-01,\n",
       "        4.64062935e-01, 4.61509563e-01, 4.61384166e-01, 4.58108836e-01,\n",
       "        4.56359607e-01, 4.55442537e-01, 4.55428249e-01, 4.54656240e-01,\n",
       "        4.54313005e-01, 4.53867661e-01, 4.53552653e-01, 4.53195645e-01,\n",
       "        4.51989540e-01, 4.50891911e-01, 4.48524070e-01, 4.48165237e-01,\n",
       "        4.48139927e-01, 4.46002874e-01, 4.45736531e-01, 4.45300603e-01,\n",
       "        4.44995071e-01, 4.44128815e-01, 4.40675423e-01, 4.39323122e-01,\n",
       "        4.36715863e-01, 4.36366994e-01, 4.36136758e-01, 4.32814441e-01,\n",
       "        4.32212316e-01, 4.31708800e-01, 4.31580394e-01, 4.30726196e-01,\n",
       "        4.30678489e-01, 4.30215085e-01, 4.30135419e-01, 4.29994463e-01,\n",
       "        4.29359209e-01, 4.28671318e-01, 4.28282173e-01, 4.27994140e-01,\n",
       "        4.26994577e-01, 4.24690335e-01, 4.24113419e-01, 4.21984183e-01,\n",
       "        4.17850647e-01, 4.17321027e-01, 4.14551525e-01, 4.13900225e-01,\n",
       "        4.13247640e-01, 4.11736366e-01, 4.11565477e-01, 4.09239984e-01,\n",
       "        4.08454143e-01, 4.05432278e-01, 4.04780429e-01, 4.03265738e-01,\n",
       "        4.03139959e-01, 4.02998001e-01, 4.02012417e-01, 4.01796059e-01,\n",
       "        3.99958569e-01, 3.99420631e-01, 3.99109732e-01, 3.98518581e-01,\n",
       "        3.96382420e-01, 3.95544170e-01, 3.95531398e-01, 3.92786974e-01,\n",
       "        3.92642006e-01, 3.91582697e-01, 3.91016270e-01, 3.89750498e-01,\n",
       "        3.89542782e-01, 3.87968622e-01, 3.87857738e-01, 3.87835903e-01,\n",
       "        3.87601590e-01, 3.85558205e-01, 3.84827174e-01, 3.84424762e-01,\n",
       "        3.83761931e-01, 3.82264214e-01, 3.80005739e-01, 3.78627546e-01,\n",
       "        3.77796827e-01, 3.76842956e-01, 3.76756370e-01, 3.75071764e-01,\n",
       "        3.74742513e-01, 3.74372785e-01, 3.74047584e-01, 3.72870399e-01,\n",
       "        3.72843456e-01, 3.72646529e-01, 3.72587933e-01, 3.71606209e-01,\n",
       "        3.71401787e-01, 3.69892860e-01, 3.69312839e-01, 3.67938692e-01,\n",
       "        3.67273742e-01, 3.67110459e-01, 3.66864335e-01, 3.65725557e-01,\n",
       "        3.65364865e-01, 3.64899282e-01, 3.64472988e-01, 3.61911043e-01,\n",
       "        3.61466255e-01, 3.60141076e-01, 3.59889050e-01, 3.59546233e-01,\n",
       "        3.59540857e-01, 3.57840389e-01, 3.56513243e-01, 3.56110923e-01,\n",
       "        3.55695656e-01, 3.55277527e-01, 3.54857611e-01, 3.54685763e-01,\n",
       "        3.54435840e-01, 3.54048013e-01, 3.53526828e-01, 3.50572471e-01,\n",
       "        3.49745730e-01, 3.47204568e-01, 3.46239652e-01, 3.45111424e-01,\n",
       "        3.44930587e-01, 3.43523150e-01, 3.42624259e-01, 3.39205231e-01,\n",
       "        3.38918200e-01, 3.35666259e-01, 3.35089640e-01, 3.33320469e-01,\n",
       "        3.32865654e-01, 3.31581554e-01, 3.30172022e-01, 3.27292112e-01,\n",
       "        3.26514336e-01, 3.24926205e-01, 3.24678053e-01, 3.24664677e-01,\n",
       "        3.24577195e-01, 3.23758656e-01, 3.23279300e-01, 3.23174184e-01,\n",
       "        3.22827505e-01, 3.22035087e-01, 3.21716871e-01, 3.13637225e-01,\n",
       "        3.11664251e-01, 3.10111023e-01, 3.09917384e-01, 3.08267010e-01,\n",
       "        3.06534114e-01, 3.05537206e-01, 3.05413056e-01, 3.03333300e-01,\n",
       "        3.03037575e-01, 3.02618359e-01, 3.02326619e-01, 3.02301522e-01,\n",
       "        3.02248467e-01, 3.01521306e-01, 3.00639392e-01, 2.97183496e-01,\n",
       "        2.96183219e-01, 2.95032371e-01, 2.94573154e-01, 2.93085042e-01,\n",
       "        2.92834852e-01, 2.92335893e-01, 2.91344417e-01, 2.90956894e-01,\n",
       "        2.90895173e-01, 2.81992480e-01, 2.80864374e-01, 2.80297700e-01,\n",
       "        2.79608167e-01, 2.79606667e-01, 2.77779660e-01, 2.77224416e-01,\n",
       "        2.77086786e-01, 2.74843932e-01, 2.74624884e-01, 2.73629730e-01,\n",
       "        2.73148711e-01, 2.73081427e-01, 2.73010383e-01, 2.72943971e-01,\n",
       "        2.72756321e-01, 2.71498971e-01, 2.71411279e-01, 2.66423605e-01,\n",
       "        2.66097646e-01, 2.60452930e-01, 2.59823440e-01, 2.59782656e-01,\n",
       "        2.59743968e-01, 2.56659589e-01, 2.56555028e-01, 2.53780201e-01,\n",
       "        2.53625950e-01, 2.48257757e-01, 2.48076755e-01, 2.45794739e-01,\n",
       "        2.45615224e-01, 2.43243768e-01, 2.42927372e-01, 2.42914117e-01,\n",
       "        2.42605496e-01, 2.40922645e-01, 2.39372662e-01, 2.38593918e-01,\n",
       "        2.37510831e-01, 2.36758630e-01, 2.35668086e-01, 2.34629179e-01,\n",
       "        2.32967535e-01, 2.30959249e-01, 2.30200686e-01, 2.29881839e-01,\n",
       "        2.29563302e-01, 2.29364374e-01, 2.29245075e-01, 2.28206978e-01,\n",
       "        2.28188707e-01, 2.25423093e-01, 2.25206585e-01, 2.23663692e-01,\n",
       "        2.23422949e-01, 2.21956210e-01, 2.21493663e-01, 2.19077195e-01,\n",
       "        2.17275412e-01, 2.14110046e-01, 2.13716345e-01, 2.10716379e-01,\n",
       "        2.10233795e-01, 2.10009715e-01, 2.09860426e-01, 2.09599359e-01,\n",
       "        2.09595905e-01, 2.05755837e-01, 2.05352603e-01, 2.04928298e-01,\n",
       "        2.04741748e-01, 2.04323536e-01, 2.04286281e-01, 2.01288579e-01,\n",
       "        2.01117445e-01, 1.99494941e-01, 1.99284230e-01, 1.96915634e-01,\n",
       "        1.96554447e-01, 1.92015961e-01, 1.91062687e-01, 1.90516596e-01,\n",
       "        1.90402104e-01, 1.90152321e-01, 1.90031617e-01, 1.87756265e-01,\n",
       "        1.87209354e-01, 1.85226195e-01, 1.84824792e-01, 1.84790892e-01,\n",
       "        1.84587593e-01, 1.84553726e-01, 1.84215327e-01, 1.84113901e-01,\n",
       "        1.80141401e-01, 1.80051595e-01, 1.79741803e-01, 1.79675475e-01,\n",
       "        1.73618164e-01, 1.73138109e-01, 1.73134194e-01, 1.73117187e-01,\n",
       "        1.72167688e-01, 1.71907967e-01, 1.70530762e-01, 1.70369343e-01,\n",
       "        1.70040402e-01, 1.69212782e-01, 1.68438743e-01, 1.68407228e-01,\n",
       "        1.68218234e-01, 1.68155273e-01, 1.67976215e-01, 1.67935060e-01,\n",
       "        1.67903620e-01, 1.67840754e-01, 1.67809327e-01, 1.67715837e-01,\n",
       "        1.67668612e-01, 1.67652267e-01, 1.67620869e-01, 1.67244460e-01,\n",
       "        1.66557517e-01, 1.66545613e-01, 1.66236439e-01, 1.64594071e-01,\n",
       "        1.64508504e-01, 1.63555069e-01, 1.61916757e-01, 1.61627940e-01,\n",
       "        1.60856503e-01, 1.58673149e-01, 1.58344637e-01, 1.56868579e-01,\n",
       "        1.56214457e-01, 1.55401715e-01, 1.54979050e-01, 1.53951029e-01,\n",
       "        1.53723044e-01, 1.53659259e-01, 1.53598891e-01, 1.53405860e-01,\n",
       "        1.53002023e-01, 1.48979949e-01, 1.48837055e-01, 1.48399887e-01,\n",
       "        1.48302199e-01, 1.46120986e-01, 1.45847781e-01, 1.42025707e-01,\n",
       "        1.41953385e-01, 1.40222367e-01, 1.39697296e-01, 1.38529163e-01,\n",
       "        1.38253231e-01, 1.38239934e-01, 1.37764676e-01, 1.37602112e-01,\n",
       "        1.37573791e-01, 1.36962245e-01, 1.36901742e-01, 1.30340853e-01,\n",
       "        1.29929763e-01, 1.27548969e-01, 1.27403882e-01, 1.21661427e-01,\n",
       "        1.21571505e-01, 1.17365507e-01, 1.17243931e-01, 1.17063347e-01,\n",
       "        1.16985477e-01, 1.15999463e-01, 1.15568940e-01, 1.15412338e-01,\n",
       "        1.14609312e-01, 1.13873745e-01, 1.13607853e-01, 1.11639533e-01,\n",
       "        1.11436299e-01, 1.08188742e-01, 1.08104024e-01, 1.06879123e-01,\n",
       "        1.06861691e-01, 1.06098721e-01, 1.05924541e-01, 1.00276586e-01,\n",
       "        1.00192727e-01, 9.86825326e-02, 9.84908167e-02, 9.61953277e-02,\n",
       "        9.61770528e-02, 9.41404696e-02, 9.40645259e-02, 9.30551584e-02,\n",
       "        9.27077735e-02, 9.05199327e-02, 9.02763278e-02, 8.95422446e-02,\n",
       "        8.94662455e-02, 8.81400546e-02, 8.80460628e-02, 8.31154761e-02,\n",
       "        8.28164450e-02, 8.21316753e-02, 8.21035320e-02, 8.18287963e-02,\n",
       "        8.16164618e-02, 7.79148988e-02, 7.77225822e-02, 7.40929757e-02,\n",
       "        7.38358377e-02, 7.31472352e-02, 7.28951806e-02, 7.06005529e-02,\n",
       "        7.02885697e-02, 6.95382251e-02, 6.95319315e-02, 6.93858722e-02,\n",
       "        6.92030263e-02, 6.85257178e-02, 6.84787500e-02, 6.54917677e-02,\n",
       "        6.54373717e-02, 6.43424972e-02, 6.41388190e-02, 6.26984216e-02,\n",
       "        6.26784867e-02, 6.09917722e-02, 6.09559610e-02, 5.97956556e-02,\n",
       "        5.96845639e-02, 5.67040172e-02, 5.66655450e-02, 5.60885527e-02,\n",
       "        5.59462020e-02, 5.52190541e-02, 5.51824423e-02, 5.39392381e-02,\n",
       "        5.39304143e-02, 5.26192128e-02, 5.25413359e-02, 5.15576963e-02,\n",
       "        5.14974429e-02, 4.93738209e-02, 4.91558635e-02, 4.80788737e-02,\n",
       "        4.79197649e-02, 4.62655216e-02, 4.60295385e-02, 4.56164514e-02,\n",
       "        4.55396203e-02, 4.43428492e-02, 4.43151246e-02, 4.23701269e-02,\n",
       "        4.21812466e-02, 4.16134541e-02, 4.16112686e-02, 4.03187627e-02,\n",
       "        4.02755707e-02, 4.02722530e-02, 4.02467598e-02, 3.88859978e-02,\n",
       "        3.88645567e-02, 3.77672511e-02, 3.77271733e-02, 3.77061145e-02,\n",
       "        3.76915179e-02, 3.40582828e-02, 3.39155576e-02, 2.78359824e-02,\n",
       "        2.77635319e-02, 2.34196167e-02, 2.34001008e-02, 2.22118401e-02,\n",
       "        2.21775830e-02, 1.07945717e-02, 1.07943664e-02, 9.02336934e-03,\n",
       "        9.00951633e-03, 6.95965516e-03, 6.91973612e-03, 6.51522520e-03,\n",
       "        6.51392049e-03, 4.70854357e-03, 4.65430435e-03, 3.95821546e-03,\n",
       "        3.95647394e-03, 2.73496050e-03, 2.70072774e-03, 1.25770654e-03]))"
      ]
     },
     "execution_count": 62,
     "metadata": {},
     "output_type": "execute_result"
    }
   ],
   "source": [
    "metrics.roc_curve(Y_test,Model.predict_proba(X_test)[:,1])"
   ]
  },
  {
   "cell_type": "code",
   "execution_count": 63,
   "metadata": {},
   "outputs": [],
   "source": [
    "fpr,tpr,thresholds=metrics.roc_curve(Y_test,Model.predict_proba(X_test)[:,1])"
   ]
  },
  {
   "cell_type": "code",
   "execution_count": 64,
   "metadata": {},
   "outputs": [
    {
     "data": {
      "text/plain": [
       "[<matplotlib.lines.Line2D at 0x855f5ca408>]"
      ]
     },
     "execution_count": 64,
     "metadata": {},
     "output_type": "execute_result"
    },
    {
     "data": {
      "image/png": "[encoded data removed]",
      "text/plain": [
       "<Figure size 432x288 with 1 Axes>"
      ]
     },
     "metadata": {
      "needs_background": "light"
     },
     "output_type": "display_data"
    }
   ],
   "source": [
    "plt.plot(fpr,tpr,\"-\")"
   ]
  },
  {
   "cell_type": "code",
   "execution_count": 65,
   "metadata": {},
   "outputs": [
    {
     "data": {
      "text/plain": [
       "0.8420896731232099"
      ]
     },
     "execution_count": 65,
     "metadata": {},
     "output_type": "execute_result"
    }
   ],
   "source": [
    "metrics.roc_auc_score(Y_test,Model.predict_proba(X_test)[:,1])"
   ]
  },
  {
   "cell_type": "code",
   "execution_count": 66,
   "metadata": {},
   "outputs": [
    {
     "data": {
      "text/plain": [
       "array([[1892,  191],\n",
       "       [ 357,  378]], dtype=int64)"
      ]
     },
     "execution_count": 66,
     "metadata": {},
     "output_type": "execute_result"
    }
   ],
   "source": [
    "metrics.confusion_matrix(Y_test,Model.predict(X_test))"
   ]
  },
  {
   "cell_type": "markdown",
   "metadata": {},
   "source": [
    "# lets check the mulicollinearity"
   ]
  },
  {
   "cell_type": "code",
   "execution_count": 67,
   "metadata": {},
   "outputs": [],
   "source": [
    "from patsy import dmatrices\n",
    "import statsmodels.api as sm\n",
    "from statsmodels.stats.outliers_influence import variance_inflation_factor"
   ]
  },
  {
   "cell_type": "code",
   "execution_count": 68,
   "metadata": {},
   "outputs": [],
   "source": [
    "vif = pd.DataFrame()\n",
    "vif[\"VIF Factor\"] = [variance_inflation_factor(X.values, i) for i in range(X.shape[1])]\n",
    "vif[\"features\"] = X.columns"
   ]
  },
  {
   "cell_type": "code",
   "execution_count": 69,
   "metadata": {},
   "outputs": [
    {
     "data": {
      "text/html": [
       "<div>\n",
       "<style scoped>\n",
       "    .dataframe tbody tr th:only-of-type {\n",
       "        vertical-align: middle;\n",
       "    }\n",
       "\n",
       "    .dataframe tbody tr th {\n",
       "        vertical-align: top;\n",
       "    }\n",
       "\n",
       "    .dataframe thead th {\n",
       "        text-align: right;\n",
       "    }\n",
       "</style>\n",
       "<table border=\"1\" class=\"dataframe\">\n",
       "  <thead>\n",
       "    <tr style=\"text-align: right;\">\n",
       "      <th></th>\n",
       "      <th>VIF Factor</th>\n",
       "      <th>features</th>\n",
       "    </tr>\n",
       "  </thead>\n",
       "  <tbody>\n",
       "    <tr>\n",
       "      <th>0</th>\n",
       "      <td>10.4</td>\n",
       "      <td>TotalCharges</td>\n",
       "    </tr>\n",
       "    <tr>\n",
       "      <th>1</th>\n",
       "      <td>6.9</td>\n",
       "      <td>MonthlyCharges</td>\n",
       "    </tr>\n",
       "    <tr>\n",
       "      <th>2</th>\n",
       "      <td>6.9</td>\n",
       "      <td>tenure</td>\n",
       "    </tr>\n",
       "    <tr>\n",
       "      <th>3</th>\n",
       "      <td>2.4</td>\n",
       "      <td>Contract_Month-to-month</td>\n",
       "    </tr>\n",
       "    <tr>\n",
       "      <th>4</th>\n",
       "      <td>1.6</td>\n",
       "      <td>OnlineSecurity_No</td>\n",
       "    </tr>\n",
       "    <tr>\n",
       "      <th>5</th>\n",
       "      <td>1.7</td>\n",
       "      <td>TechSupport_No</td>\n",
       "    </tr>\n",
       "    <tr>\n",
       "      <th>6</th>\n",
       "      <td>1.3</td>\n",
       "      <td>PaymentMethod_Electronic check</td>\n",
       "    </tr>\n",
       "    <tr>\n",
       "      <th>7</th>\n",
       "      <td>3.1</td>\n",
       "      <td>InternetService_Fiber optic</td>\n",
       "    </tr>\n",
       "    <tr>\n",
       "      <th>8</th>\n",
       "      <td>1.1</td>\n",
       "      <td>SeniorCitizen</td>\n",
       "    </tr>\n",
       "    <tr>\n",
       "      <th>9</th>\n",
       "      <td>12.0</td>\n",
       "      <td>gender_Male</td>\n",
       "    </tr>\n",
       "    <tr>\n",
       "      <th>10</th>\n",
       "      <td>1.4</td>\n",
       "      <td>DeviceProtection_No</td>\n",
       "    </tr>\n",
       "    <tr>\n",
       "      <th>11</th>\n",
       "      <td>11.9</td>\n",
       "      <td>gender_Female</td>\n",
       "    </tr>\n",
       "    <tr>\n",
       "      <th>12</th>\n",
       "      <td>1.4</td>\n",
       "      <td>OnlineBackup_No</td>\n",
       "    </tr>\n",
       "    <tr>\n",
       "      <th>13</th>\n",
       "      <td>1.9</td>\n",
       "      <td>Contract_Two year</td>\n",
       "    </tr>\n",
       "    <tr>\n",
       "      <th>14</th>\n",
       "      <td>1.2</td>\n",
       "      <td>PaperlessBilling_Yes</td>\n",
       "    </tr>\n",
       "  </tbody>\n",
       "</table>\n",
       "</div>"
      ],
      "text/plain": [
       "    VIF Factor                        features\n",
       "0         10.4                    TotalCharges\n",
       "1          6.9                  MonthlyCharges\n",
       "2          6.9                          tenure\n",
       "3          2.4         Contract_Month-to-month\n",
       "4          1.6               OnlineSecurity_No\n",
       "5          1.7                  TechSupport_No\n",
       "6          1.3  PaymentMethod_Electronic check\n",
       "7          3.1     InternetService_Fiber optic\n",
       "8          1.1                   SeniorCitizen\n",
       "9         12.0                     gender_Male\n",
       "10         1.4             DeviceProtection_No\n",
       "11        11.9                   gender_Female\n",
       "12         1.4                 OnlineBackup_No\n",
       "13         1.9               Contract_Two year\n",
       "14         1.2            PaperlessBilling_Yes"
      ]
     },
     "execution_count": 69,
     "metadata": {},
     "output_type": "execute_result"
    }
   ],
   "source": [
    "vif.round(1)"
   ]
  },
  {
   "cell_type": "code",
   "execution_count": 70,
   "metadata": {},
   "outputs": [],
   "source": [
    "#since VIF factor is above 10  shows collinearity is high and we are dropping the columns in the following steps\n",
    "#to identify the most important columns to be considered.  "
   ]
  },
  {
   "cell_type": "code",
   "execution_count": 71,
   "metadata": {},
   "outputs": [],
   "source": [
    "x1=df5[['MonthlyCharges','tenure','Contract_Month-to-month','OnlineSecurity_No','TechSupport_No','PaymentMethod_Electronic check','InternetService_Fiber optic','SeniorCitizen','DeviceProtection_No','OnlineBackup_No','Contract_Two year','PaperlessBilling_Yes']]\n",
    "y1=df5[['Target']]"
   ]
  },
  {
   "cell_type": "code",
   "execution_count": 72,
   "metadata": {},
   "outputs": [
    {
     "data": {
      "text/html": [
       "<div>\n",
       "<style scoped>\n",
       "    .dataframe tbody tr th:only-of-type {\n",
       "        vertical-align: middle;\n",
       "    }\n",
       "\n",
       "    .dataframe tbody tr th {\n",
       "        vertical-align: top;\n",
       "    }\n",
       "\n",
       "    .dataframe thead th {\n",
       "        text-align: right;\n",
       "    }\n",
       "</style>\n",
       "<table border=\"1\" class=\"dataframe\">\n",
       "  <thead>\n",
       "    <tr style=\"text-align: right;\">\n",
       "      <th></th>\n",
       "      <th>MonthlyCharges</th>\n",
       "      <th>tenure</th>\n",
       "      <th>Contract_Month-to-month</th>\n",
       "      <th>OnlineSecurity_No</th>\n",
       "      <th>TechSupport_No</th>\n",
       "      <th>PaymentMethod_Electronic check</th>\n",
       "      <th>InternetService_Fiber optic</th>\n",
       "      <th>SeniorCitizen</th>\n",
       "      <th>DeviceProtection_No</th>\n",
       "      <th>OnlineBackup_No</th>\n",
       "      <th>Contract_Two year</th>\n",
       "      <th>PaperlessBilling_Yes</th>\n",
       "    </tr>\n",
       "  </thead>\n",
       "  <tbody>\n",
       "    <tr>\n",
       "      <th>0</th>\n",
       "      <td>29.85</td>\n",
       "      <td>1</td>\n",
       "      <td>1</td>\n",
       "      <td>1</td>\n",
       "      <td>1</td>\n",
       "      <td>1</td>\n",
       "      <td>0</td>\n",
       "      <td>0</td>\n",
       "      <td>1</td>\n",
       "      <td>0</td>\n",
       "      <td>0</td>\n",
       "      <td>1</td>\n",
       "    </tr>\n",
       "    <tr>\n",
       "      <th>1</th>\n",
       "      <td>56.95</td>\n",
       "      <td>34</td>\n",
       "      <td>0</td>\n",
       "      <td>0</td>\n",
       "      <td>1</td>\n",
       "      <td>0</td>\n",
       "      <td>0</td>\n",
       "      <td>0</td>\n",
       "      <td>0</td>\n",
       "      <td>1</td>\n",
       "      <td>0</td>\n",
       "      <td>0</td>\n",
       "    </tr>\n",
       "    <tr>\n",
       "      <th>2</th>\n",
       "      <td>53.85</td>\n",
       "      <td>2</td>\n",
       "      <td>1</td>\n",
       "      <td>0</td>\n",
       "      <td>1</td>\n",
       "      <td>0</td>\n",
       "      <td>0</td>\n",
       "      <td>0</td>\n",
       "      <td>1</td>\n",
       "      <td>0</td>\n",
       "      <td>0</td>\n",
       "      <td>1</td>\n",
       "    </tr>\n",
       "    <tr>\n",
       "      <th>3</th>\n",
       "      <td>42.30</td>\n",
       "      <td>45</td>\n",
       "      <td>0</td>\n",
       "      <td>0</td>\n",
       "      <td>0</td>\n",
       "      <td>0</td>\n",
       "      <td>0</td>\n",
       "      <td>0</td>\n",
       "      <td>0</td>\n",
       "      <td>1</td>\n",
       "      <td>0</td>\n",
       "      <td>0</td>\n",
       "    </tr>\n",
       "    <tr>\n",
       "      <th>4</th>\n",
       "      <td>70.70</td>\n",
       "      <td>2</td>\n",
       "      <td>1</td>\n",
       "      <td>1</td>\n",
       "      <td>1</td>\n",
       "      <td>1</td>\n",
       "      <td>1</td>\n",
       "      <td>0</td>\n",
       "      <td>1</td>\n",
       "      <td>1</td>\n",
       "      <td>0</td>\n",
       "      <td>1</td>\n",
       "    </tr>\n",
       "  </tbody>\n",
       "</table>\n",
       "</div>"
      ],
      "text/plain": [
       "   MonthlyCharges  tenure  Contract_Month-to-month  OnlineSecurity_No  \\\n",
       "0           29.85       1                        1                  1   \n",
       "1           56.95      34                        0                  0   \n",
       "2           53.85       2                        1                  0   \n",
       "3           42.30      45                        0                  0   \n",
       "4           70.70       2                        1                  1   \n",
       "\n",
       "   TechSupport_No  PaymentMethod_Electronic check  \\\n",
       "0               1                               1   \n",
       "1               1                               0   \n",
       "2               1                               0   \n",
       "3               0                               0   \n",
       "4               1                               1   \n",
       "\n",
       "   InternetService_Fiber optic  SeniorCitizen  DeviceProtection_No  \\\n",
       "0                            0              0                    1   \n",
       "1                            0              0                    0   \n",
       "2                            0              0                    1   \n",
       "3                            0              0                    0   \n",
       "4                            1              0                    1   \n",
       "\n",
       "   OnlineBackup_No  Contract_Two year  PaperlessBilling_Yes  \n",
       "0                0                  0                     1  \n",
       "1                1                  0                     0  \n",
       "2                0                  0                     1  \n",
       "3                1                  0                     0  \n",
       "4                1                  0                     1  "
      ]
     },
     "execution_count": 72,
     "metadata": {},
     "output_type": "execute_result"
    }
   ],
   "source": [
    "x1.head()"
   ]
  },
  {
   "cell_type": "code",
   "execution_count": 73,
   "metadata": {},
   "outputs": [],
   "source": [
    "vif = pd.DataFrame()\n",
    "vif[\"VIF Factor\"] = [variance_inflation_factor(x1.values, i) for i in range(x1.shape[1])]\n",
    "vif[\"features\"] = x1.columns"
   ]
  },
  {
   "cell_type": "code",
   "execution_count": 74,
   "metadata": {},
   "outputs": [
    {
     "data": {
      "text/html": [
       "<div>\n",
       "<style scoped>\n",
       "    .dataframe tbody tr th:only-of-type {\n",
       "        vertical-align: middle;\n",
       "    }\n",
       "\n",
       "    .dataframe tbody tr th {\n",
       "        vertical-align: top;\n",
       "    }\n",
       "\n",
       "    .dataframe thead th {\n",
       "        text-align: right;\n",
       "    }\n",
       "</style>\n",
       "<table border=\"1\" class=\"dataframe\">\n",
       "  <thead>\n",
       "    <tr style=\"text-align: right;\">\n",
       "      <th></th>\n",
       "      <th>VIF Factor</th>\n",
       "      <th>features</th>\n",
       "    </tr>\n",
       "  </thead>\n",
       "  <tbody>\n",
       "    <tr>\n",
       "      <th>0</th>\n",
       "      <td>15.5</td>\n",
       "      <td>MonthlyCharges</td>\n",
       "    </tr>\n",
       "    <tr>\n",
       "      <th>1</th>\n",
       "      <td>5.5</td>\n",
       "      <td>tenure</td>\n",
       "    </tr>\n",
       "    <tr>\n",
       "      <th>2</th>\n",
       "      <td>3.5</td>\n",
       "      <td>Contract_Month-to-month</td>\n",
       "    </tr>\n",
       "    <tr>\n",
       "      <th>3</th>\n",
       "      <td>3.2</td>\n",
       "      <td>OnlineSecurity_No</td>\n",
       "    </tr>\n",
       "    <tr>\n",
       "      <th>4</th>\n",
       "      <td>3.3</td>\n",
       "      <td>TechSupport_No</td>\n",
       "    </tr>\n",
       "    <tr>\n",
       "      <th>5</th>\n",
       "      <td>1.9</td>\n",
       "      <td>PaymentMethod_Electronic check</td>\n",
       "    </tr>\n",
       "    <tr>\n",
       "      <th>6</th>\n",
       "      <td>4.7</td>\n",
       "      <td>InternetService_Fiber optic</td>\n",
       "    </tr>\n",
       "    <tr>\n",
       "      <th>7</th>\n",
       "      <td>1.3</td>\n",
       "      <td>SeniorCitizen</td>\n",
       "    </tr>\n",
       "    <tr>\n",
       "      <th>8</th>\n",
       "      <td>2.5</td>\n",
       "      <td>DeviceProtection_No</td>\n",
       "    </tr>\n",
       "    <tr>\n",
       "      <th>9</th>\n",
       "      <td>2.4</td>\n",
       "      <td>OnlineBackup_No</td>\n",
       "    </tr>\n",
       "    <tr>\n",
       "      <th>10</th>\n",
       "      <td>2.2</td>\n",
       "      <td>Contract_Two year</td>\n",
       "    </tr>\n",
       "    <tr>\n",
       "      <th>11</th>\n",
       "      <td>2.9</td>\n",
       "      <td>PaperlessBilling_Yes</td>\n",
       "    </tr>\n",
       "  </tbody>\n",
       "</table>\n",
       "</div>"
      ],
      "text/plain": [
       "    VIF Factor                        features\n",
       "0         15.5                  MonthlyCharges\n",
       "1          5.5                          tenure\n",
       "2          3.5         Contract_Month-to-month\n",
       "3          3.2               OnlineSecurity_No\n",
       "4          3.3                  TechSupport_No\n",
       "5          1.9  PaymentMethod_Electronic check\n",
       "6          4.7     InternetService_Fiber optic\n",
       "7          1.3                   SeniorCitizen\n",
       "8          2.5             DeviceProtection_No\n",
       "9          2.4                 OnlineBackup_No\n",
       "10         2.2               Contract_Two year\n",
       "11         2.9            PaperlessBilling_Yes"
      ]
     },
     "execution_count": 74,
     "metadata": {},
     "output_type": "execute_result"
    }
   ],
   "source": [
    "vif.round(1)"
   ]
  },
  {
   "cell_type": "code",
   "execution_count": 75,
   "metadata": {},
   "outputs": [],
   "source": [
    "x2=df5[['tenure','Contract_Month-to-month','OnlineSecurity_No','TechSupport_No','PaymentMethod_Electronic check','InternetService_Fiber optic','SeniorCitizen','DeviceProtection_No','OnlineBackup_No','Contract_Two year','PaperlessBilling_Yes']]\n",
    "y2=df5[['Target']]"
   ]
  },
  {
   "cell_type": "code",
   "execution_count": 76,
   "metadata": {},
   "outputs": [
    {
     "data": {
      "text/html": [
       "<div>\n",
       "<style scoped>\n",
       "    .dataframe tbody tr th:only-of-type {\n",
       "        vertical-align: middle;\n",
       "    }\n",
       "\n",
       "    .dataframe tbody tr th {\n",
       "        vertical-align: top;\n",
       "    }\n",
       "\n",
       "    .dataframe thead th {\n",
       "        text-align: right;\n",
       "    }\n",
       "</style>\n",
       "<table border=\"1\" class=\"dataframe\">\n",
       "  <thead>\n",
       "    <tr style=\"text-align: right;\">\n",
       "      <th></th>\n",
       "      <th>tenure</th>\n",
       "      <th>Contract_Month-to-month</th>\n",
       "      <th>OnlineSecurity_No</th>\n",
       "      <th>TechSupport_No</th>\n",
       "      <th>PaymentMethod_Electronic check</th>\n",
       "      <th>InternetService_Fiber optic</th>\n",
       "      <th>SeniorCitizen</th>\n",
       "      <th>DeviceProtection_No</th>\n",
       "      <th>OnlineBackup_No</th>\n",
       "      <th>Contract_Two year</th>\n",
       "      <th>PaperlessBilling_Yes</th>\n",
       "    </tr>\n",
       "  </thead>\n",
       "  <tbody>\n",
       "    <tr>\n",
       "      <th>0</th>\n",
       "      <td>1</td>\n",
       "      <td>1</td>\n",
       "      <td>1</td>\n",
       "      <td>1</td>\n",
       "      <td>1</td>\n",
       "      <td>0</td>\n",
       "      <td>0</td>\n",
       "      <td>1</td>\n",
       "      <td>0</td>\n",
       "      <td>0</td>\n",
       "      <td>1</td>\n",
       "    </tr>\n",
       "    <tr>\n",
       "      <th>1</th>\n",
       "      <td>34</td>\n",
       "      <td>0</td>\n",
       "      <td>0</td>\n",
       "      <td>1</td>\n",
       "      <td>0</td>\n",
       "      <td>0</td>\n",
       "      <td>0</td>\n",
       "      <td>0</td>\n",
       "      <td>1</td>\n",
       "      <td>0</td>\n",
       "      <td>0</td>\n",
       "    </tr>\n",
       "    <tr>\n",
       "      <th>2</th>\n",
       "      <td>2</td>\n",
       "      <td>1</td>\n",
       "      <td>0</td>\n",
       "      <td>1</td>\n",
       "      <td>0</td>\n",
       "      <td>0</td>\n",
       "      <td>0</td>\n",
       "      <td>1</td>\n",
       "      <td>0</td>\n",
       "      <td>0</td>\n",
       "      <td>1</td>\n",
       "    </tr>\n",
       "    <tr>\n",
       "      <th>3</th>\n",
       "      <td>45</td>\n",
       "      <td>0</td>\n",
       "      <td>0</td>\n",
       "      <td>0</td>\n",
       "      <td>0</td>\n",
       "      <td>0</td>\n",
       "      <td>0</td>\n",
       "      <td>0</td>\n",
       "      <td>1</td>\n",
       "      <td>0</td>\n",
       "      <td>0</td>\n",
       "    </tr>\n",
       "    <tr>\n",
       "      <th>4</th>\n",
       "      <td>2</td>\n",
       "      <td>1</td>\n",
       "      <td>1</td>\n",
       "      <td>1</td>\n",
       "      <td>1</td>\n",
       "      <td>1</td>\n",
       "      <td>0</td>\n",
       "      <td>1</td>\n",
       "      <td>1</td>\n",
       "      <td>0</td>\n",
       "      <td>1</td>\n",
       "    </tr>\n",
       "  </tbody>\n",
       "</table>\n",
       "</div>"
      ],
      "text/plain": [
       "   tenure  Contract_Month-to-month  OnlineSecurity_No  TechSupport_No  \\\n",
       "0       1                        1                  1               1   \n",
       "1      34                        0                  0               1   \n",
       "2       2                        1                  0               1   \n",
       "3      45                        0                  0               0   \n",
       "4       2                        1                  1               1   \n",
       "\n",
       "   PaymentMethod_Electronic check  InternetService_Fiber optic  SeniorCitizen  \\\n",
       "0                               1                            0              0   \n",
       "1                               0                            0              0   \n",
       "2                               0                            0              0   \n",
       "3                               0                            0              0   \n",
       "4                               1                            1              0   \n",
       "\n",
       "   DeviceProtection_No  OnlineBackup_No  Contract_Two year  \\\n",
       "0                    1                0                  0   \n",
       "1                    0                1                  0   \n",
       "2                    1                0                  0   \n",
       "3                    0                1                  0   \n",
       "4                    1                1                  0   \n",
       "\n",
       "   PaperlessBilling_Yes  \n",
       "0                     1  \n",
       "1                     0  \n",
       "2                     1  \n",
       "3                     0  \n",
       "4                     1  "
      ]
     },
     "execution_count": 76,
     "metadata": {},
     "output_type": "execute_result"
    }
   ],
   "source": [
    "x2.head()"
   ]
  },
  {
   "cell_type": "code",
   "execution_count": 77,
   "metadata": {},
   "outputs": [],
   "source": [
    "vif = pd.DataFrame()\n",
    "vif[\"VIF Factor\"] = [variance_inflation_factor(x2.values, i) for i in range(x2.shape[1])]\n",
    "vif[\"features\"] = x2.columns"
   ]
  },
  {
   "cell_type": "code",
   "execution_count": 78,
   "metadata": {},
   "outputs": [
    {
     "data": {
      "text/html": [
       "<div>\n",
       "<style scoped>\n",
       "    .dataframe tbody tr th:only-of-type {\n",
       "        vertical-align: middle;\n",
       "    }\n",
       "\n",
       "    .dataframe tbody tr th {\n",
       "        vertical-align: top;\n",
       "    }\n",
       "\n",
       "    .dataframe thead th {\n",
       "        text-align: right;\n",
       "    }\n",
       "</style>\n",
       "<table border=\"1\" class=\"dataframe\">\n",
       "  <thead>\n",
       "    <tr style=\"text-align: right;\">\n",
       "      <th></th>\n",
       "      <th>VIF Factor</th>\n",
       "      <th>features</th>\n",
       "    </tr>\n",
       "  </thead>\n",
       "  <tbody>\n",
       "    <tr>\n",
       "      <th>0</th>\n",
       "      <td>3.3</td>\n",
       "      <td>tenure</td>\n",
       "    </tr>\n",
       "    <tr>\n",
       "      <th>1</th>\n",
       "      <td>3.2</td>\n",
       "      <td>Contract_Month-to-month</td>\n",
       "    </tr>\n",
       "    <tr>\n",
       "      <th>2</th>\n",
       "      <td>3.1</td>\n",
       "      <td>OnlineSecurity_No</td>\n",
       "    </tr>\n",
       "    <tr>\n",
       "      <th>3</th>\n",
       "      <td>3.3</td>\n",
       "      <td>TechSupport_No</td>\n",
       "    </tr>\n",
       "    <tr>\n",
       "      <th>4</th>\n",
       "      <td>1.9</td>\n",
       "      <td>PaymentMethod_Electronic check</td>\n",
       "    </tr>\n",
       "    <tr>\n",
       "      <th>5</th>\n",
       "      <td>2.7</td>\n",
       "      <td>InternetService_Fiber optic</td>\n",
       "    </tr>\n",
       "    <tr>\n",
       "      <th>6</th>\n",
       "      <td>1.3</td>\n",
       "      <td>SeniorCitizen</td>\n",
       "    </tr>\n",
       "    <tr>\n",
       "      <th>7</th>\n",
       "      <td>2.4</td>\n",
       "      <td>DeviceProtection_No</td>\n",
       "    </tr>\n",
       "    <tr>\n",
       "      <th>8</th>\n",
       "      <td>2.3</td>\n",
       "      <td>OnlineBackup_No</td>\n",
       "    </tr>\n",
       "    <tr>\n",
       "      <th>9</th>\n",
       "      <td>2.2</td>\n",
       "      <td>Contract_Two year</td>\n",
       "    </tr>\n",
       "    <tr>\n",
       "      <th>10</th>\n",
       "      <td>2.8</td>\n",
       "      <td>PaperlessBilling_Yes</td>\n",
       "    </tr>\n",
       "  </tbody>\n",
       "</table>\n",
       "</div>"
      ],
      "text/plain": [
       "    VIF Factor                        features\n",
       "0          3.3                          tenure\n",
       "1          3.2         Contract_Month-to-month\n",
       "2          3.1               OnlineSecurity_No\n",
       "3          3.3                  TechSupport_No\n",
       "4          1.9  PaymentMethod_Electronic check\n",
       "5          2.7     InternetService_Fiber optic\n",
       "6          1.3                   SeniorCitizen\n",
       "7          2.4             DeviceProtection_No\n",
       "8          2.3                 OnlineBackup_No\n",
       "9          2.2               Contract_Two year\n",
       "10         2.8            PaperlessBilling_Yes"
      ]
     },
     "execution_count": 78,
     "metadata": {},
     "output_type": "execute_result"
    }
   ],
   "source": [
    "vif.round(1)"
   ]
  },
  {
   "cell_type": "code",
   "execution_count": 79,
   "metadata": {},
   "outputs": [],
   "source": [
    "#again checking the accuracy of our model."
   ]
  },
  {
   "cell_type": "code",
   "execution_count": 80,
   "metadata": {},
   "outputs": [],
   "source": [
    "X=df5[['tenure','Contract_Month-to-month','OnlineSecurity_No','TechSupport_No','PaymentMethod_Electronic check','InternetService_Fiber optic','SeniorCitizen','DeviceProtection_No','OnlineBackup_No','Contract_Two year','PaperlessBilling_Yes']]\n",
    "Y=df5[['Target']]"
   ]
  },
  {
   "cell_type": "code",
   "execution_count": 81,
   "metadata": {},
   "outputs": [],
   "source": [
    "from sklearn.model_selection import train_test_split\n",
    "X_train, X_test, Y_train, Y_test = train_test_split(X, Y, test_size=0.4, random_state=250)"
   ]
  },
  {
   "cell_type": "code",
   "execution_count": 82,
   "metadata": {},
   "outputs": [],
   "source": [
    "from sklearn.linear_model import LogisticRegression \n",
    "lgr=LogisticRegression(random_state=0)"
   ]
  },
  {
   "cell_type": "code",
   "execution_count": 83,
   "metadata": {},
   "outputs": [],
   "source": [
    "Model=lgr.fit(X_train,Y_train)"
   ]
  },
  {
   "cell_type": "code",
   "execution_count": 84,
   "metadata": {},
   "outputs": [
    {
     "data": {
      "text/plain": [
       "array([[-0.02680644,  0.5682353 ,  0.41957605,  0.44937321,  0.40698824,\n",
       "         0.89560242,  0.28346116,  0.01954587,  0.20440333, -0.89475873,\n",
       "         0.33345537]])"
      ]
     },
     "execution_count": 84,
     "metadata": {},
     "output_type": "execute_result"
    }
   ],
   "source": [
    "Model.coef_"
   ]
  },
  {
   "cell_type": "code",
   "execution_count": 85,
   "metadata": {},
   "outputs": [
    {
     "data": {
      "text/html": [
       "<div>\n",
       "<style scoped>\n",
       "    .dataframe tbody tr th:only-of-type {\n",
       "        vertical-align: middle;\n",
       "    }\n",
       "\n",
       "    .dataframe tbody tr th {\n",
       "        vertical-align: top;\n",
       "    }\n",
       "\n",
       "    .dataframe thead th {\n",
       "        text-align: right;\n",
       "    }\n",
       "</style>\n",
       "<table border=\"1\" class=\"dataframe\">\n",
       "  <thead>\n",
       "    <tr style=\"text-align: right;\">\n",
       "      <th></th>\n",
       "      <th>0</th>\n",
       "    </tr>\n",
       "  </thead>\n",
       "  <tbody>\n",
       "    <tr>\n",
       "      <th>TotalCharges</th>\n",
       "      <td>0.000427</td>\n",
       "    </tr>\n",
       "    <tr>\n",
       "      <th>MonthlyCharges</th>\n",
       "      <td>-0.004927</td>\n",
       "    </tr>\n",
       "    <tr>\n",
       "      <th>tenure</th>\n",
       "      <td>-0.067540</td>\n",
       "    </tr>\n",
       "    <tr>\n",
       "      <th>Contract_Month-to-month</th>\n",
       "      <td>0.169763</td>\n",
       "    </tr>\n",
       "    <tr>\n",
       "      <th>OnlineSecurity_No</th>\n",
       "      <td>0.518808</td>\n",
       "    </tr>\n",
       "    <tr>\n",
       "      <th>TechSupport_No</th>\n",
       "      <td>0.585993</td>\n",
       "    </tr>\n",
       "    <tr>\n",
       "      <th>PaymentMethod_Electronic check</th>\n",
       "      <td>0.524136</td>\n",
       "    </tr>\n",
       "    <tr>\n",
       "      <th>InternetService_Fiber optic</th>\n",
       "      <td>0.848160</td>\n",
       "    </tr>\n",
       "    <tr>\n",
       "      <th>SeniorCitizen</th>\n",
       "      <td>0.423980</td>\n",
       "    </tr>\n",
       "    <tr>\n",
       "      <th>gender_Male</th>\n",
       "      <td>-0.573848</td>\n",
       "    </tr>\n",
       "    <tr>\n",
       "      <th>DeviceProtection_No</th>\n",
       "      <td>0.031789</td>\n",
       "    </tr>\n",
       "    <tr>\n",
       "      <th>gender_Female</th>\n",
       "      <td>-0.459760</td>\n",
       "    </tr>\n",
       "    <tr>\n",
       "      <th>OnlineBackup_No</th>\n",
       "      <td>0.176466</td>\n",
       "    </tr>\n",
       "    <tr>\n",
       "      <th>Contract_Two year</th>\n",
       "      <td>-0.688348</td>\n",
       "    </tr>\n",
       "    <tr>\n",
       "      <th>PaperlessBilling_Yes</th>\n",
       "      <td>0.275016</td>\n",
       "    </tr>\n",
       "  </tbody>\n",
       "</table>\n",
       "</div>"
      ],
      "text/plain": [
       "                                       0\n",
       "TotalCharges                    0.000427\n",
       "MonthlyCharges                 -0.004927\n",
       "tenure                         -0.067540\n",
       "Contract_Month-to-month         0.169763\n",
       "OnlineSecurity_No               0.518808\n",
       "TechSupport_No                  0.585993\n",
       "PaymentMethod_Electronic check  0.524136\n",
       "InternetService_Fiber optic     0.848160\n",
       "SeniorCitizen                   0.423980\n",
       "gender_Male                    -0.573848\n",
       "DeviceProtection_No             0.031789\n",
       "gender_Female                  -0.459760\n",
       "OnlineBackup_No                 0.176466\n",
       "Contract_Two year              -0.688348\n",
       "PaperlessBilling_Yes            0.275016"
      ]
     },
     "execution_count": 85,
     "metadata": {},
     "output_type": "execute_result"
    }
   ],
   "source": [
    "x"
   ]
  },
  {
   "cell_type": "code",
   "execution_count": 86,
   "metadata": {},
   "outputs": [
    {
     "data": {
      "text/plain": [
       "array([-2.15161494])"
      ]
     },
     "execution_count": 86,
     "metadata": {},
     "output_type": "execute_result"
    }
   ],
   "source": [
    "Model.intercept_"
   ]
  },
  {
   "cell_type": "code",
   "execution_count": 87,
   "metadata": {},
   "outputs": [],
   "source": [
    "Y_preds=Model.predict(X_test)"
   ]
  },
  {
   "cell_type": "code",
   "execution_count": 88,
   "metadata": {},
   "outputs": [
    {
     "data": {
      "text/plain": [
       "0.8420926123689995"
      ]
     },
     "execution_count": 88,
     "metadata": {},
     "output_type": "execute_result"
    }
   ],
   "source": [
    "metrics.roc_auc_score(Y_test,Model.predict_proba(X_test)[:,1])"
   ]
  },
  {
   "cell_type": "markdown",
   "metadata": {},
   "source": [
    "# Conclusion "
   ]
  },
  {
   "cell_type": "code",
   "execution_count": 89,
   "metadata": {},
   "outputs": [
    {
     "ename": "IndentationError",
     "evalue": "unexpected indent (<ipython-input-89-2c22403ee4b6>, line 2)",
     "output_type": "error",
     "traceback": [
      "\u001b[1;36m  File \u001b[1;32m\"<ipython-input-89-2c22403ee4b6>\"\u001b[1;36m, line \u001b[1;32m2\u001b[0m\n\u001b[1;33m    I used sklearn Logistic model for predictive churn analysis.Variables are selected on the basis of random forest classifiers\u001b[0m\n\u001b[1;37m    ^\u001b[0m\n\u001b[1;31mIndentationError\u001b[0m\u001b[1;31m:\u001b[0m unexpected indent\n"
     ]
    }
   ],
   "source": [
    "##Describe your predictive churn model. How did you select variables to be included in the model?\n",
    " I used sklearn Logistic model for predictive churn analysis.Variables are selected on the basis of random forest classifiers \n",
    "    showing the most important columns in the data. From that data we selected the 15 important columns to do the modelling.\n",
    "    \n",
    "##Demonstrate the performance of the model.\n",
    "The apllied model showed an accuracy of 84.20926123689995 %.\n",
    "\n",
    "##What are the key factors that predict customer churn? Do these factors make sense?\n",
    "The key factors that affect the customer churn are tenure\n",
    "Contract_Month-to-month\n",
    "OnlineSecurity_No\n",
    "TechSupport_No\n",
    "PaymentMethod_Electronic check\n",
    "InternetService_Fiber optic\n",
    "SeniorCitizen\n",
    "DeviceProtection_No\n",
    "OnlineBackup_No\n",
    "Contract_Two year\n",
    "PaperlessBilling_Yes  etc.\n",
    "\n",
    "##What offers should be made to which customers to encourage them to remain with company?\n",
    "The offers to be made to reduce the churn are giving online security,providing technical support, Changing the payment method \n",
    "from electronic check to other ways , providing online backups etc.\n",
    "\n",
    "##Assuming these actions were implemented, how would you determine whether they had worked?\n",
    "After these actions were implemented , we can again do the analysis and find out the result if we carried out a proper churn \n",
    "management.\n"
   ]
  },
  {
   "cell_type": "code",
   "execution_count": null,
   "metadata": {},
   "outputs": [],
   "source": []
  }
 ],
 "metadata": {
  "kernelspec": {
   "display_name": "Python 3",
   "language": "python",
   "name": "python3"
  },
  "language_info": {
   "codemirror_mode": {
    "name": "ipython",
    "version": 3
   },
   "file_extension": ".py",
   "mimetype": "text/x-python",
   "name": "python",
   "nbconvert_exporter": "python",
   "pygments_lexer": "ipython3",
   "version": "3.7.6"
  }
 },
 "nbformat": 4,
 "nbformat_minor": 4
}
